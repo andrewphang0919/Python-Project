{
 "cells": [
  {
   "cell_type": "code",
   "execution_count": 1,
   "id": "40a02919",
   "metadata": {},
   "outputs": [
    {
     "name": "stdout",
     "output_type": "stream",
     "text": [
      "A\n",
      "Congratulations!\n"
     ]
    }
   ],
   "source": [
    "grade=input()\n",
    "\n",
    "if grade == \"A\":\n",
    "    print(\"Congratulations!\")\n",
    "elif grade == \"B\":\n",
    "    print(\"Good\")\n",
    "elif grade == \"C\":\n",
    "    print(\"Pass\")\n",
    "else:\n",
    "    print(\"No such grade in the system\")"
   ]
  },
  {
   "cell_type": "code",
   "execution_count": 5,
   "id": "5f4efec8",
   "metadata": {},
   "outputs": [
    {
     "name": "stdout",
     "output_type": "stream",
     "text": [
      "<class 'str'>\n"
     ]
    }
   ],
   "source": [
    "print(type(grade))"
   ]
  },
  {
   "cell_type": "code",
   "execution_count": 6,
   "id": "2392b8cf",
   "metadata": {},
   "outputs": [
    {
     "name": "stdout",
     "output_type": "stream",
     "text": [
      "100\n",
      "No such grade in the system\n"
     ]
    }
   ],
   "source": [
    "grade=int(input())\n",
    "\n",
    "if grade == \"A\":\n",
    "    print(\"Congratulations!\")\n",
    "elif grade == \"B\":\n",
    "    print(\"Good\")\n",
    "elif grade == \"C\":\n",
    "    print(\"Pass\")\n",
    "else:\n",
    "    print(\"No such grade in the system\")"
   ]
  },
  {
   "cell_type": "code",
   "execution_count": 8,
   "id": "46099a08",
   "metadata": {},
   "outputs": [
    {
     "name": "stdout",
     "output_type": "stream",
     "text": [
      "<class 'int'>\n"
     ]
    }
   ],
   "source": [
    "print(type(grade))"
   ]
  },
  {
   "cell_type": "code",
   "execution_count": 1,
   "id": "2492342d",
   "metadata": {},
   "outputs": [
    {
     "name": "stdout",
     "output_type": "stream",
     "text": [
      "A\n",
      "Congratulations!\n"
     ]
    }
   ],
   "source": [
    "grade=str(input())\n",
    "\n",
    "if grade == \"A\":\n",
    "    print(\"Congratulations!\")\n",
    "elif grade == \"B\":\n",
    "    print(\"Good\")\n",
    "elif grade == \"C\":\n",
    "    print(\"Pass\")\n",
    "else:\n",
    "    print(\"No such grade in the system\")"
   ]
  }
 ],
 "metadata": {
  "kernelspec": {
   "display_name": "Python 3 (ipykernel)",
   "language": "python",
   "name": "python3"
  },
  "language_info": {
   "codemirror_mode": {
    "name": "ipython",
    "version": 3
   },
   "file_extension": ".py",
   "mimetype": "text/x-python",
   "name": "python",
   "nbconvert_exporter": "python",
   "pygments_lexer": "ipython3",
   "version": "3.11.5"
  }
 },
 "nbformat": 4,
 "nbformat_minor": 5
}

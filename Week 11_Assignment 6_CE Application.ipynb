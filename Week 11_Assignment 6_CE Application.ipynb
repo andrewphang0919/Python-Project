{
 "cells": [
  {
   "cell_type": "code",
   "execution_count": 35,
   "id": "712229b1",
   "metadata": {},
   "outputs": [
    {
     "data": {
      "text/plain": [
       "array([0.64      , 0.064     , 0.03088295])"
      ]
     },
     "execution_count": 35,
     "metadata": {},
     "output_type": "execute_result"
    }
   ],
   "source": [
    "import fluids\n",
    "friction_factor(Re=[100, 1000, 10000], eD=0)"
   ]
  },
  {
   "cell_type": "code",
   "execution_count": 36,
   "id": "bf33d312",
   "metadata": {},
   "outputs": [
    {
     "data": {
      "text/plain": [
       "array(37920.51140146)"
      ]
     },
     "execution_count": 36,
     "metadata": {},
     "output_type": "execute_result"
    }
   ],
   "source": [
    "Re = Reynolds(V=3, D=0.05, rho=1000, mu=1E-3)\n",
    "fd = friction_factor(Re, eD=1E-5/0.05)\n",
    "K = K_from_f(fd=fd, L=15, D=0.05)\n",
    "K += entrance_sharp()\n",
    "K += exit_normal()\n",
    "K += 2*bend_miter(angle=30)\n",
    "K += bend_rounded(Di=0.05, angle=45, fd=fd)\n",
    "K += contraction_sharp(Di1=0.05, Di2=0.025)\n",
    "K += diffuser_sharp(Di1=0.025, Di2=0.05)\n",
    "dP_from_K(K, rho=1000, V=3)"
   ]
  },
  {
   "cell_type": "code",
   "execution_count": 44,
   "id": "c53ca280",
   "metadata": {},
   "outputs": [
    {
     "name": "stdout",
     "output_type": "stream",
     "text": [
      "Requirement already satisfied: pint in c:\\users\\andre\\anaconda3\\lib\\site-packages (0.23)\n",
      "Requirement already satisfied: typing-extensions in c:\\users\\andre\\anaconda3\\lib\\site-packages (from pint) (4.7.1)\n"
     ]
    }
   ],
   "source": [
    "!pip install pint"
   ]
  },
  {
   "cell_type": "code",
   "execution_count": 45,
   "id": "4a844e7f",
   "metadata": {},
   "outputs": [
    {
     "data": {
      "text/html": [
       "734959.1052267993 pascal"
      ],
      "text/latex": [
       "$734959.1052267993\\ \\mathrm{pascal}$"
      ],
      "text/plain": [
       "734959.1052267993 <Unit('pascal')>"
      ]
     },
     "execution_count": 45,
     "metadata": {},
     "output_type": "execute_result"
    }
   ],
   "source": [
    "from fluids.units import *\n",
    "from math import *\n",
    "material = nearest_material_roughness('steel', clean=True)\n",
    "epsilon = material_roughness(material)\n",
    "Q = .01*u.m**3/u.s\n",
    "rho = 1000*u.kg/u.m**3\n",
    "mu = 1E-4*u.Pa*u.s\n",
    "D1 = 5*u.cm\n",
    "D2 = 2.5*u.cm\n",
    "D3 = 4*u.cm\n",
    "L1 = 20*u.m\n",
    "L2 = 5*u.m\n",
    "L3 = 15*u.m\n",
    "V1 = Q/(pi/4*D1**2)\n",
    "Re = Reynolds(V=V1, D=D1, rho=rho, mu=mu)\n",
    "fd = friction_factor(Re, eD=epsilon/D1)\n",
    "K = K_from_f(fd=fd, L=L1, D=D1)\n",
    "K += entrance_beveled(Di=D1, l=10*u.mm, angle=30*u.degrees)\n",
    "K += bend_miter(angle=30*u.degrees)\n",
    "K += contraction_sharp(Di1=D1, Di2=D2)\n",
    "V2 = Q/(pi/4*D2**2)\n",
    "Re2 = Reynolds(V=V2, D=D2, rho=rho, mu=mu)\n",
    "fd2 = friction_factor(Re2, eD=epsilon/D2)\n",
    "K += change_K_basis(K_from_f(fd=fd2, L=L2, D=D2), D1=D2, D2=D1)\n",
    "K += change_K_basis(K1=bend_miter(angle=30*u.degrees), D1=D2, D2=D1)\n",
    "K += change_K_basis(K1=bend_rounded(Di=D2, angle=45*u.degrees, fd=fd2), D1=D2, D2=D1)\n",
    "V3 = Q/(pi/4*D3**2)\n",
    "Re3 = Reynolds(V=V3, D=D3, rho=rho, mu=mu)\n",
    "fd3 = friction_factor(Re3, eD=epsilon/D3)\n",
    "K += change_K_basis(K_from_f(fd=fd3, L=L3, D=D3), D1=D3, D2=D1)\n",
    "K += diffuser_sharp(Di1=D2, Di2=D3)\n",
    "dP_from_K(K, rho=rho, V=V1)"
   ]
  }
 ],
 "metadata": {
  "kernelspec": {
   "display_name": "Python 3 (ipykernel)",
   "language": "python",
   "name": "python3"
  },
  "language_info": {
   "codemirror_mode": {
    "name": "ipython",
    "version": 3
   },
   "file_extension": ".py",
   "mimetype": "text/x-python",
   "name": "python",
   "nbconvert_exporter": "python",
   "pygments_lexer": "ipython3",
   "version": "3.11.5"
  }
 },
 "nbformat": 4,
 "nbformat_minor": 5
}

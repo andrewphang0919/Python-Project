{
 "cells": [
  {
   "cell_type": "code",
   "execution_count": null,
   "id": "83107933",
   "metadata": {},
   "outputs": [],
   "source": [
    "Write a python script to retrieve hourly temperature data for a user-specified number of days (ranging from 1 to 16 days) from a weather API and plot the temperature trend.\n",
    "\n",
    "You are provided with an API endpoint that delivers gourly temperature data. Your task is to createa visualization of hourly temperature trends, showcasing how temperature changes over the specified number of days in a specific location"
   ]
  }
 ],
 "metadata": {
  "kernelspec": {
   "display_name": "Python 3 (ipykernel)",
   "language": "python",
   "name": "python3"
  },
  "language_info": {
   "codemirror_mode": {
    "name": "ipython",
    "version": 3
   },
   "file_extension": ".py",
   "mimetype": "text/x-python",
   "name": "python",
   "nbconvert_exporter": "python",
   "pygments_lexer": "ipython3",
   "version": "3.11.5"
  }
 },
 "nbformat": 4,
 "nbformat_minor": 5
}

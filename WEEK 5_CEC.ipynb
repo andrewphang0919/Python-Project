{
 "cells": [
  {
   "cell_type": "markdown",
   "id": "3a9bd4d6",
   "metadata": {},
   "source": [
    "# Positional Arguments"
   ]
  },
  {
   "cell_type": "code",
   "execution_count": 5,
   "id": "fe028715",
   "metadata": {},
   "outputs": [
    {
     "name": "stdout",
     "output_type": "stream",
     "text": [
      "Alice is enrolled in Mathematics class.\n"
     ]
    }
   ],
   "source": [
    "def student_information(class_name,student_name):\n",
    "    #Display information about a student and their class.\n",
    "    print  (student_name+\" is enrolled in \"+class_name+\" class.\")\n",
    "#Positional arguments:\n",
    "student_information('Mathematics','Alice')"
   ]
  },
  {
   "cell_type": "markdown",
   "id": "b6a64bee",
   "metadata": {},
   "source": [
    "# Keyword Arguments"
   ]
  },
  {
   "cell_type": "code",
   "execution_count": 12,
   "id": "a6338146",
   "metadata": {},
   "outputs": [
    {
     "name": "stdout",
     "output_type": "stream",
     "text": [
      "Khai Jin is enrolled in Mathematics class.\n"
     ]
    }
   ],
   "source": [
    "def student_information(class_name, student_name):\n",
    "    #Display information about a student and their class.\n",
    "    print(student_name+\" is enrolled in \"+class_name+\" class.\")\n",
    "#Keyword Arguments:\n",
    "student_information('Mathematics','Khai Jin')"
   ]
  },
  {
   "cell_type": "markdown",
   "id": "f4900091",
   "metadata": {},
   "source": [
    "# Default Arguments"
   ]
  },
  {
   "cell_type": "code",
   "execution_count": 31,
   "id": "30e58999",
   "metadata": {},
   "outputs": [
    {
     "name": "stdout",
     "output_type": "stream",
     "text": [
      "Student Name: Lina\n",
      "Enrolled Course: Introduction to Python\n"
     ]
    }
   ],
   "source": [
    "def enroll_student(student_name, course='Introduction to Python'):\n",
    "    # Enroll a student in a course with a default option.\n",
    "    print(\"Student Name: \" + student_name)\n",
    "    print(\"Enrolled Course: \" + course)\n",
    "#Default Arguments:\n",
    "enroll_student(student_name='Lina')"
   ]
  },
  {
   "cell_type": "code",
   "execution_count": 33,
   "id": "37ad0213",
   "metadata": {},
   "outputs": [
    {
     "name": "stdout",
     "output_type": "stream",
     "text": [
      "Student Name: Lina\n",
      "Enrolled Course: Data Structures\n"
     ]
    }
   ],
   "source": [
    "def enroll_student(student_name, course='Introduction to Python'):\n",
    "    # Enroll a student in a course with a default option.\n",
    "    print(\"Student Name: \" + student_name)\n",
    "    print(\"Enrolled Course: \" + course)\n",
    "#Default Arguments:\n",
    "enroll_student(student_name='Lina',course='Data Structures')"
   ]
  },
  {
   "attachments": {},
   "cell_type": "markdown",
   "id": "4a774a07",
   "metadata": {},
   "source": [
    "# Variable-length Arguments: *args"
   ]
  },
  {
   "cell_type": "code",
   "execution_count": 35,
   "id": "ec4aa225",
   "metadata": {},
   "outputs": [
    {
     "name": "stdout",
     "output_type": "stream",
     "text": [
      "Student: Angel\n",
      "Enrolled in:\n",
      "- KIL 2012\n",
      "- KIX 1001\n",
      "- KIL 2005\n"
     ]
    }
   ],
   "source": [
    "def enroll_in_courses(student_name, *courses):\n",
    "    # Enroll a student in multiple courses.\n",
    "    print(\"Student: \" + student_name)\n",
    "    print(\"Enrolled in:\")\n",
    "    for course in courses:\n",
    "        print(\"- \" + course)\n",
    "# Example of enrolling a student in three different courses:\n",
    "enroll_in_courses('Angel', 'KIL 2012', 'KIX 1001', 'KIL 2005')"
   ]
  },
  {
   "cell_type": "markdown",
   "id": "669b1b4d",
   "metadata": {},
   "source": [
    "# Variable-length Arguments: **kwargs – cont."
   ]
  },
  {
   "cell_type": "code",
   "execution_count": 37,
   "id": "97161238",
   "metadata": {},
   "outputs": [
    {
     "name": "stdout",
     "output_type": "stream",
     "text": [
      "Enrolling Smith with the following details:\n",
      "- Course: Algebra II\n",
      "- Semester: One\n",
      "- Payment Method: TNG\n"
     ]
    }
   ],
   "source": [
    "def enroll_student(student_name, **details):\n",
    "     # Enroll a student with additional details.\n",
    "    print(\"Enrolling \" + student_name + \" with the following details:\")\n",
    "    for detail, value in details.items():\n",
    "        print(\"- \" + detail.replace('_', ' ').title() + \": \" + str(value))\n",
    "# Example of enrolling a student with additional details:\n",
    "enroll_student('Smith', course='Algebra II', semester='One', payment_method='TNG')"
   ]
  }
 ],
 "metadata": {
  "kernelspec": {
   "display_name": "Python 3 (ipykernel)",
   "language": "python",
   "name": "python3"
  },
  "language_info": {
   "codemirror_mode": {
    "name": "ipython",
    "version": 3
   },
   "file_extension": ".py",
   "mimetype": "text/x-python",
   "name": "python",
   "nbconvert_exporter": "python",
   "pygments_lexer": "ipython3",
   "version": "3.11.5"
  }
 },
 "nbformat": 4,
 "nbformat_minor": 5
}

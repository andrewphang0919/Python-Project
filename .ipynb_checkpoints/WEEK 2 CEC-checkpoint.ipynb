{
 "cells": [
  {
   "cell_type": "code",
   "execution_count": 2,
   "id": "f25d2b2d",
   "metadata": {},
   "outputs": [
    {
     "name": "stdout",
     "output_type": "stream",
     "text": [
      "30\n",
      "10\n",
      "200\n",
      "2.0\n"
     ]
    }
   ],
   "source": [
    "def sum(a,b):\n",
    "    #a function that adds two parameters\n",
    "    return a+b\n",
    "\n",
    "def sub(a,b):\n",
    "    #a function that substracts two parameters\n",
    "    return a-b\n",
    "\n",
    "def mult(a,b):\n",
    "    #a function that multiplies two parameters\n",
    "    return a*b\n",
    "\n",
    "def divi(a,b):\n",
    "    #a function that divides two parameters\n",
    "    return a/b\n",
    "\n",
    "print(sum(20,10))\n",
    "print(sub(20,10))\n",
    "print(mult(20,10))\n",
    "print(divi(20,10))"
   ]
  },
  {
   "cell_type": "code",
   "execution_count": 8,
   "id": "6fb4d9d5",
   "metadata": {},
   "outputs": [
    {
     "name": "stdout",
     "output_type": "stream",
     "text": [
      "Please enter the name of the subjectChemistry\n",
      "the subject is available\n"
     ]
    }
   ],
   "source": [
    "subjects = [\"Software\",\"Chemistry\",\"English\",\"Arabic\"]\n",
    "\n",
    "def subject_availability(subject_name):\n",
    "    if (is_available(subject_name)):\n",
    "        return \"the subject is available\"\n",
    "    else:\n",
    "        return \"the subject is not available\"\n",
    "    \n",
    "def is_available(subject_name):\n",
    "    return subject_name in subjects\n",
    "\n",
    "input_subject = input (\"Please enter the name of the subject\")\n",
    "print (subject_availability(input_subject))"
   ]
  },
  {
   "cell_type": "code",
   "execution_count": null,
   "id": "add793f1",
   "metadata": {},
   "outputs": [],
   "source": []
  }
 ],
 "metadata": {
  "kernelspec": {
   "display_name": "Python 3 (ipykernel)",
   "language": "python",
   "name": "python3"
  },
  "language_info": {
   "codemirror_mode": {
    "name": "ipython",
    "version": 3
   },
   "file_extension": ".py",
   "mimetype": "text/x-python",
   "name": "python",
   "nbconvert_exporter": "python",
   "pygments_lexer": "ipython3",
   "version": "3.11.5"
  }
 },
 "nbformat": 4,
 "nbformat_minor": 5
}

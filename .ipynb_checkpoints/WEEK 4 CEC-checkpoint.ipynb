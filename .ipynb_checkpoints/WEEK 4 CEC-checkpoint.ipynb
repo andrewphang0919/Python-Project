{
 "cells": [
  {
   "cell_type": "code",
   "execution_count": null,
   "id": "f6cab8af",
   "metadata": {},
   "outputs": [],
   "source": [
    "number = int(input(\"Enter a number:\"))\n"
   ]
  },
  {
   "cell_type": "code",
   "execution_count": 4,
   "id": "269b056d",
   "metadata": {},
   "outputs": [
    {
     "ename": "TypeError",
     "evalue": "can only concatenate str (not \"int\") to str",
     "output_type": "error",
     "traceback": [
      "\u001b[1;31m---------------------------------------------------------------------------\u001b[0m",
      "\u001b[1;31mTypeError\u001b[0m                                 Traceback (most recent call last)",
      "Cell \u001b[1;32mIn[4], line 1\u001b[0m\n\u001b[1;32m----> 1\u001b[0m x \u001b[38;5;241m=\u001b[39m \u001b[38;5;124m\"\u001b[39m\u001b[38;5;124m2\u001b[39m\u001b[38;5;124m\"\u001b[39m \u001b[38;5;241m+\u001b[39m \u001b[38;5;241m2\u001b[39m\n",
      "\u001b[1;31mTypeError\u001b[0m: can only concatenate str (not \"int\") to str"
     ]
    }
   ],
   "source": [
    "x = \"2\" + 2"
   ]
  },
  {
   "cell_type": "code",
   "execution_count": 6,
   "id": "c75994c7",
   "metadata": {},
   "outputs": [
    {
     "name": "stdout",
     "output_type": "stream",
     "text": [
      "Error\n"
     ]
    }
   ],
   "source": [
    "try:\n",
    "    x = \"2\" + 2\n",
    "except:\n",
    "    #Code that runs if the exception occurs\n",
    "    print (\"Error\")\n",
    "    "
   ]
  },
  {
   "cell_type": "code",
   "execution_count": 7,
   "id": "1fe75058",
   "metadata": {},
   "outputs": [
    {
     "ename": "TypeError",
     "evalue": "can only concatenate str (not \"int\") to str",
     "output_type": "error",
     "traceback": [
      "\u001b[1;31m---------------------------------------------------------------------------\u001b[0m",
      "\u001b[1;31mTypeError\u001b[0m                                 Traceback (most recent call last)",
      "Cell \u001b[1;32mIn[7], line 1\u001b[0m\n\u001b[1;32m----> 1\u001b[0m x \u001b[38;5;241m=\u001b[39m \u001b[38;5;124m\"\u001b[39m\u001b[38;5;124m2\u001b[39m\u001b[38;5;124m\"\u001b[39m \u001b[38;5;241m+\u001b[39m \u001b[38;5;241m2\u001b[39m\n",
      "\u001b[1;31mTypeError\u001b[0m: can only concatenate str (not \"int\") to str"
     ]
    }
   ],
   "source": [
    " x = \"2\" + 2"
   ]
  },
  {
   "cell_type": "code",
   "execution_count": 8,
   "id": "680d350f",
   "metadata": {},
   "outputs": [
    {
     "name": "stdout",
     "output_type": "stream",
     "text": [
      "The data that you input is not int\n"
     ]
    }
   ],
   "source": [
    "try:\n",
    "    x = \"2\" + 2\n",
    "except:\n",
    "    #Code that runs if the exception occurs\n",
    "    print (\"The data that you input is not int\")"
   ]
  },
  {
   "cell_type": "code",
   "execution_count": 9,
   "id": "a616c136",
   "metadata": {},
   "outputs": [
    {
     "name": "stdout",
     "output_type": "stream",
     "text": [
      "non-existent fourth element in a three-element list\n"
     ]
    }
   ],
   "source": [
    "try:\n",
    "    my_list = [1,2,3];my_list[3]\n",
    "except:\n",
    "    #Code that runs if the exception occurs\n",
    "    print (\"non-existent fourth element in a three-element list\")"
   ]
  },
  {
   "cell_type": "code",
   "execution_count": 10,
   "id": "bffbf12f",
   "metadata": {},
   "outputs": [
    {
     "name": "stdout",
     "output_type": "stream",
     "text": [
      "This is an error\n"
     ]
    }
   ],
   "source": [
    "try:\n",
    "    x = \"2\" + 2\n",
    "except TypeError:\n",
    "    #Code that runs if the exception occurs\n",
    "    print (\"This is an error\")"
   ]
  },
  {
   "cell_type": "code",
   "execution_count": 11,
   "id": "3da2c66f",
   "metadata": {},
   "outputs": [
    {
     "name": "stdout",
     "output_type": "stream",
     "text": [
      "This is an error\n"
     ]
    }
   ],
   "source": [
    "try:\n",
    "    x = \"2\" + 2\n",
    "except TypeError:\n",
    "    #Code that runs if the exception occurs\n",
    "    print (\"This is an error\")\n",
    "except ValueError:\n",
    "    print (\"This is value error\")"
   ]
  },
  {
   "cell_type": "code",
   "execution_count": 12,
   "id": "65ef0cc7",
   "metadata": {},
   "outputs": [
    {
     "name": "stdout",
     "output_type": "stream",
     "text": [
      "Please enter a valid number0919\n"
     ]
    }
   ],
   "source": [
    "number = int(input(\"Please enter a valid number\"))"
   ]
  },
  {
   "cell_type": "code",
   "execution_count": 13,
   "id": "bb1a9859",
   "metadata": {},
   "outputs": [
    {
     "name": "stdout",
     "output_type": "stream",
     "text": [
      "Please enter a valid numberjkjk\n"
     ]
    },
    {
     "ename": "ValueError",
     "evalue": "invalid literal for int() with base 10: 'jkjk'",
     "output_type": "error",
     "traceback": [
      "\u001b[1;31m---------------------------------------------------------------------------\u001b[0m",
      "\u001b[1;31mValueError\u001b[0m                                Traceback (most recent call last)",
      "Cell \u001b[1;32mIn[13], line 1\u001b[0m\n\u001b[1;32m----> 1\u001b[0m number \u001b[38;5;241m=\u001b[39m \u001b[38;5;28mint\u001b[39m(\u001b[38;5;28minput\u001b[39m(\u001b[38;5;124m\"\u001b[39m\u001b[38;5;124mPlease enter a valid number\u001b[39m\u001b[38;5;124m\"\u001b[39m))\n",
      "\u001b[1;31mValueError\u001b[0m: invalid literal for int() with base 10: 'jkjk'"
     ]
    }
   ],
   "source": [
    "number = int(input(\"Please enter a valid number\"))"
   ]
  },
  {
   "cell_type": "code",
   "execution_count": 14,
   "id": "557635d3",
   "metadata": {},
   "outputs": [
    {
     "name": "stdout",
     "output_type": "stream",
     "text": [
      "Please enter a valid numberjkjk\n",
      "the input data is not a number\n"
     ]
    }
   ],
   "source": [
    "try:\n",
    "    number = int(input(\"Please enter a valid number\"))\n",
    "except:\n",
    "    print(\"the input data is not a number\")\n"
   ]
  },
  {
   "cell_type": "code",
   "execution_count": 15,
   "id": "846c1ec9",
   "metadata": {},
   "outputs": [
    {
     "ename": "IndexError",
     "evalue": "list index out of range",
     "output_type": "error",
     "traceback": [
      "\u001b[1;31m---------------------------------------------------------------------------\u001b[0m",
      "\u001b[1;31mIndexError\u001b[0m                                Traceback (most recent call last)",
      "Cell \u001b[1;32mIn[15], line 3\u001b[0m\n\u001b[0;32m      1\u001b[0m my_list \u001b[38;5;241m=\u001b[39m [\u001b[38;5;241m1\u001b[39m,\u001b[38;5;241m2\u001b[39m,\u001b[38;5;241m3\u001b[39m]\n\u001b[1;32m----> 3\u001b[0m my_list[\u001b[38;5;241m3\u001b[39m]\n",
      "\u001b[1;31mIndexError\u001b[0m: list index out of range"
     ]
    }
   ],
   "source": [
    "my_list = [1,2,3]\n",
    "\n",
    "my_list[3]"
   ]
  },
  {
   "cell_type": "code",
   "execution_count": 17,
   "id": "9bf9df92",
   "metadata": {},
   "outputs": [
    {
     "data": {
      "text/plain": [
       "1"
      ]
     },
     "execution_count": 17,
     "metadata": {},
     "output_type": "execute_result"
    }
   ],
   "source": [
    "my_list = [1,2,3]\n",
    "\n",
    "my_list[0]"
   ]
  },
  {
   "cell_type": "code",
   "execution_count": 19,
   "id": "07fb3c3b",
   "metadata": {},
   "outputs": [
    {
     "ename": "KeyError",
     "evalue": "'b'",
     "output_type": "error",
     "traceback": [
      "\u001b[1;31m---------------------------------------------------------------------------\u001b[0m",
      "\u001b[1;31mKeyError\u001b[0m                                  Traceback (most recent call last)",
      "Cell \u001b[1;32mIn[19], line 1\u001b[0m\n\u001b[1;32m----> 1\u001b[0m my_dict \u001b[38;5;241m=\u001b[39m {\u001b[38;5;124m'\u001b[39m\u001b[38;5;124ma\u001b[39m\u001b[38;5;124m'\u001b[39m:\u001b[38;5;241m1\u001b[39m};my_dict[\u001b[38;5;124m'\u001b[39m\u001b[38;5;124mb\u001b[39m\u001b[38;5;124m'\u001b[39m]\n",
      "\u001b[1;31mKeyError\u001b[0m: 'b'"
     ]
    }
   ],
   "source": [
    "my_dict = {'a':1};my_dict['b']"
   ]
  },
  {
   "cell_type": "code",
   "execution_count": 21,
   "id": "de4583e1",
   "metadata": {},
   "outputs": [
    {
     "name": "stdout",
     "output_type": "stream",
     "text": [
      "the value does not exist\n"
     ]
    }
   ],
   "source": [
    "my_list = [1,2,3]\n",
    "try:\n",
    "    my_list[10]\n",
    "    print (\"the value does exist in the list\")\n",
    "except:\n",
    "    print(\"the value does not exist\")"
   ]
  },
  {
   "cell_type": "code",
   "execution_count": 22,
   "id": "e4c7c07e",
   "metadata": {},
   "outputs": [
    {
     "name": "stdout",
     "output_type": "stream",
     "text": [
      "the value does exist in the list\n"
     ]
    }
   ],
   "source": [
    "my_list = [1,2,3]\n",
    "try:\n",
    "    my_list[0]\n",
    "    print (\"the value does exist in the list\")\n",
    "except:\n",
    "    print(\"the value does not exist\")"
   ]
  },
  {
   "cell_type": "code",
   "execution_count": 25,
   "id": "99aad05c",
   "metadata": {},
   "outputs": [
    {
     "name": "stdout",
     "output_type": "stream",
     "text": [
      "Enter a number:x\n",
      "That's not a number!\n",
      "This is executed no matter what!\n"
     ]
    }
   ],
   "source": [
    "try:\n",
    "    number = int(input(\"Enter a number:\"))\n",
    "except ValueError:\n",
    "    print(\"That's not a number!\")\n",
    "else:\n",
    "    print(\"You entered a number!\")\n",
    "finally:\n",
    "    print(\"This is executed no matter what!\")"
   ]
  },
  {
   "cell_type": "code",
   "execution_count": 36,
   "id": "5326adff",
   "metadata": {},
   "outputs": [
    {
     "name": "stdout",
     "output_type": "stream",
     "text": [
      "Enter a number:19\n",
      "You entered a number!\n",
      "This is executed no matter what!\n",
      "Result: Success\n"
     ]
    }
   ],
   "source": [
    "def example():\n",
    "    try:\n",
    "        number = int(input(\"Enter a number:\"))\n",
    "    except ValueError:\n",
    "        print(\"That's not a number!\")\n",
    "        result = None #or any other default value\n",
    "    else:\n",
    "        print(\"You entered a number!\")\n",
    "        result = \"Success\"\n",
    "    finally:\n",
    "        print (\"This is executed no matter what!\")\n",
    "        return result\n",
    "    \n",
    "# Example usage\n",
    "result = example()\n",
    "print(\"Result:\", result)"
   ]
  },
  {
   "cell_type": "code",
   "execution_count": 42,
   "id": "a4237c0c",
   "metadata": {
    "scrolled": true
   },
   "outputs": [
    {
     "name": "stdout",
     "output_type": "stream",
     "text": [
      "Enter a number:0\n",
      "Division by zero is not allowed.\n"
     ]
    }
   ],
   "source": [
    "try:\n",
    "    user_input = input(\"Enter a number:\")\n",
    "    result = 1/int(user_input)\n",
    "    print (result)\n",
    "except ValueError:\n",
    "    print(\"Please enter a valid integer\")\n",
    "except ZeroDivisionError:\n",
    "    print(\"Division by zero is not allowed.\")"
   ]
  },
  {
   "cell_type": "code",
   "execution_count": 41,
   "id": "6bb03bb5",
   "metadata": {},
   "outputs": [
    {
     "name": "stdout",
     "output_type": "stream",
     "text": [
      "Enter a number:jkjk\n",
      "Please enter a valid integer\n"
     ]
    }
   ],
   "source": [
    "try:\n",
    "    user_input = input(\"Enter a number:\")\n",
    "    result = 1/int(user_input)\n",
    "    print (result)\n",
    "except ValueError:\n",
    "    print(\"Please enter a valid integer\")\n",
    "except ZeroDivisionError:\n",
    "    print(\"Division by zero is not allowed.\")"
   ]
  },
  {
   "cell_type": "code",
   "execution_count": 44,
   "id": "c54f22f7",
   "metadata": {},
   "outputs": [
    {
     "name": "stdout",
     "output_type": "stream",
     "text": [
      "Enter a number:0\n"
     ]
    },
    {
     "ename": "ZeroDivisionError",
     "evalue": "division by zero",
     "output_type": "error",
     "traceback": [
      "\u001b[1;31m---------------------------------------------------------------------------\u001b[0m",
      "\u001b[1;31mZeroDivisionError\u001b[0m                         Traceback (most recent call last)",
      "Cell \u001b[1;32mIn[44], line 2\u001b[0m\n\u001b[0;32m      1\u001b[0m user_input \u001b[38;5;241m=\u001b[39m \u001b[38;5;28minput\u001b[39m(\u001b[38;5;124m\"\u001b[39m\u001b[38;5;124mEnter a number:\u001b[39m\u001b[38;5;124m\"\u001b[39m)\n\u001b[1;32m----> 2\u001b[0m result \u001b[38;5;241m=\u001b[39m \u001b[38;5;241m1\u001b[39m\u001b[38;5;241m/\u001b[39m\u001b[38;5;28mint\u001b[39m(user_input)\n\u001b[0;32m      3\u001b[0m \u001b[38;5;28mprint\u001b[39m (result)\n",
      "\u001b[1;31mZeroDivisionError\u001b[0m: division by zero"
     ]
    }
   ],
   "source": [
    "user_input = input(\"Enter a number:\")\n",
    "result = 1/int(user_input)\n",
    "print (result)"
   ]
  },
  {
   "cell_type": "code",
   "execution_count": null,
   "id": "da5c2221",
   "metadata": {},
   "outputs": [
    {
     "name": "stdout",
     "output_type": "stream",
     "text": [
      "Enter the first number: 1\n",
      "Enter the second number: 2\n",
      "Enter the operation (add, sub, multiply, divide): gg\n",
      "Invalid operation. Please enter add, sub, multiply, or divide.\n",
      "Enter the first number: 0.7\n",
      "Please enter valid number.\n",
      "Enter the first number: 33\n",
      "Enter the second number: 5.5\n",
      "Please enter valid number.\n",
      "Enter the first number: 1\n",
      "Enter the second number: 2\n",
      "Enter the operation (add, sub, multiply, divide): 3\n",
      "Invalid operation. Please enter add, sub, multiply, or divide.\n",
      "Enter the first number: fff\n",
      "Please enter valid number.\n",
      "Enter the first number: 1\n",
      "Enter the second number: 2\n",
      "Enter the operation (add, sub, multiply, divide): gg\n",
      "Invalid operation. Please enter add, sub, multiply, or divide.\n"
     ]
    }
   ],
   "source": [
    "def simple_calculator():\n",
    "    \n",
    "    while True:\n",
    "        try:\n",
    "            num1 = int(input(\"Enter the first number: \"))\n",
    "            num2 = int(input(\"Enter the second number: \"))\n",
    "            operation = input(\"Enter the operation (add, sub, multiply, divide): \")\n",
    "            # Get user input for numbers and operation\n",
    "            \n",
    "            # Perform the chosen operation\n",
    "            if operation == 'add':\n",
    "                result = num1 + num2\n",
    "            elif operation == 'sub':\n",
    "                result = num1 - num2\n",
    "            elif operation == 'multiply':\n",
    "                result = num1 * num2\n",
    "            elif operation == 'divide':\n",
    "                # Check for division by zero\n",
    "                if num2 == 0:\n",
    "                    raise ZeroDivisionError(\"Division by zero is not allowed.\")\n",
    "                result = num1 / num2\n",
    "            else:\n",
    "                print (\"Invalid operation. Please enter add, sub, multiply, or divide.\")\n",
    "                continue  # Ask the user to enter the operation again\n",
    "                \n",
    "        except ValueError:\n",
    "            print(\"Please enter valid number.\")\n",
    "            continue\n",
    "        except ZeroDivisionError:\n",
    "            print(\"Please enter a non-zero value for the second number.\")\n",
    "            continue\n",
    "        except Exception:\n",
    "            print(\"An unexpected error occurred\")\n",
    "            continue\n",
    "        else:\n",
    "            print(\"Result:\",result)\n",
    "            break\n",
    "            \n",
    "# Call the function to run the calculator\n",
    "simple_calculator()"
   ]
  },
  {
   "cell_type": "code",
   "execution_count": null,
   "id": "21b00197",
   "metadata": {},
   "outputs": [],
   "source": [
    "            continue\n",
    "        else:\n",
    "            print(f\"Result: {result}\")\n",
    "            break\n",
    "            # Display the result and exit the loop\n"
   ]
  }
 ],
 "metadata": {
  "kernelspec": {
   "display_name": "Python 3 (ipykernel)",
   "language": "python",
   "name": "python3"
  },
  "language_info": {
   "codemirror_mode": {
    "name": "ipython",
    "version": 3
   },
   "file_extension": ".py",
   "mimetype": "text/x-python",
   "name": "python",
   "nbconvert_exporter": "python",
   "pygments_lexer": "ipython3",
   "version": "3.11.5"
  }
 },
 "nbformat": 4,
 "nbformat_minor": 5
}

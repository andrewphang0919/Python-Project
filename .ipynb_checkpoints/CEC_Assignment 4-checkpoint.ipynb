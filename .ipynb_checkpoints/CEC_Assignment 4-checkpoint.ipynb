{
 "cells": [
  {
   "cell_type": "code",
   "execution_count": 1,
   "id": "863865ea",
   "metadata": {},
   "outputs": [
    {
     "name": "stdout",
     "output_type": "stream",
     "text": [
      "Checkout Processed by: Sarah Connor\n",
      "Books Checked Out:\n",
      "- 1984\n",
      "- Brave New World\n",
      "Checkout Duration: 3 weeks\n",
      "Additional Checkout Details:\n",
      "- Late Fee: $0.25 per day\n",
      "- Renewals Allowed: 2\n",
      "Special Conditions for Checkout:\n",
      "- Handle with care\n"
     ]
    }
   ],
   "source": [
    "def checkout_books(librarian_name, *book_titles, duration='2 weeks', **kwargs):\n",
    "    \"\"\"\n",
    "    Manage book checkouts at a library.\n",
    "\n",
    "    Parameters:\n",
    "    - librarian_name (str): Name of the librarian processing the checkout.\n",
    "    - book_titles (str): One or more book titles being checked out.\n",
    "    - duration (str, optional): Standard checkout duration. Default is '2 weeks'.\n",
    "    - **kwargs: Additional information about the checkout, such as late_fee per day or special_conditions.\n",
    "\n",
    "    Example:\n",
    "    checkout_books('Sarah Connor', '1984', 'Brave New World', duration='3 weeks', late_fee=0.25, renewals_allowed=2, special_conditions='Handle with care')\n",
    "    \"\"\"\n",
    "    # Print checkout header\n",
    "    print(f\"Checkout Processed by: {librarian_name}\")\n",
    "    print(\"Books Checked Out:\")\n",
    "    \n",
    "    # Print each book title\n",
    "    for title in book_titles:\n",
    "        print(f\"- {title}\")\n",
    "    \n",
    "    # Print checkout duration\n",
    "    print(f\"Checkout Duration: {duration}\")\n",
    "    \n",
    "    # Print additional checkout details\n",
    "    print(\"Additional Checkout Details:\")\n",
    "    \n",
    "    # Check for late_fee in kwargs and print if present\n",
    "    if 'late_fee' in kwargs:\n",
    "        print(f\"- Late Fee: ${kwargs['late_fee']} per day\")\n",
    "    \n",
    "    # Check for renewals_allowed in kwargs and print if present\n",
    "    if 'renewals_allowed' in kwargs:\n",
    "        print(f\"- Renewals Allowed: {kwargs['renewals_allowed']}\")\n",
    "    \n",
    "    # Check for special_conditions in kwargs and print if present\n",
    "    if 'special_conditions' in kwargs:\n",
    "        print(\"Special Conditions for Checkout:\")\n",
    "        print(f\"- {kwargs['special_conditions']}\")\n",
    "\n",
    "# Example usage\n",
    "checkout_books('Sarah Connor', '1984', 'Brave New World', duration='3 weeks', late_fee=0.25, renewals_allowed=2, special_conditions='Handle with care')"
   ]
  }
 ],
 "metadata": {
  "kernelspec": {
   "display_name": "Python 3 (ipykernel)",
   "language": "python",
   "name": "python3"
  },
  "language_info": {
   "codemirror_mode": {
    "name": "ipython",
    "version": 3
   },
   "file_extension": ".py",
   "mimetype": "text/x-python",
   "name": "python",
   "nbconvert_exporter": "python",
   "pygments_lexer": "ipython3",
   "version": "3.11.5"
  }
 },
 "nbformat": 4,
 "nbformat_minor": 5
}

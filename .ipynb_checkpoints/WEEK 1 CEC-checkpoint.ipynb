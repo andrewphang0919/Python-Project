{
 "cells": [
  {
   "cell_type": "code",
   "execution_count": null,
   "id": "f468fb13",
   "metadata": {},
   "outputs": [],
   "source": [
    "grade = input()"
   ]
  },
  {
   "cell_type": "raw",
   "id": "34da830e",
   "metadata": {},
   "source": [
    "if grade == 'A':\n",
    "    print(\"Congratulations!\")\n",
    "elif grade == \"B\":\n",
    "    print (\"Good\")\n",
    "elif grade == \"C\":\n",
    "    print (\"Pass\")\n",
    "else:\n",
    "    print (\"No such grade in the system\")\n",
    "    print('wen han is handsome')"
   ]
  },
  {
   "cell_type": "code",
   "execution_count": 1,
   "id": "6c795f42",
   "metadata": {},
   "outputs": [
    {
     "ename": "NameError",
     "evalue": "name 'h' is not defined",
     "output_type": "error",
     "traceback": [
      "\u001b[1;31m---------------------------------------------------------------------------\u001b[0m",
      "\u001b[1;31mNameError\u001b[0m                                 Traceback (most recent call last)",
      "Cell \u001b[1;32mIn[1], line 1\u001b[0m\n\u001b[1;32m----> 1\u001b[0m h\n",
      "\u001b[1;31mNameError\u001b[0m: name 'h' is not defined"
     ]
    }
   ],
   "source": [
    "h"
   ]
  },
  {
   "cell_type": "code",
   "execution_count": 2,
   "id": "6debbfcf",
   "metadata": {},
   "outputs": [
    {
     "name": "stdout",
     "output_type": "stream",
     "text": [
      "A\n",
      "Congratulations!\n"
     ]
    }
   ],
   "source": [
    "grade = input()\n",
    "if grade == 'A':\n",
    "    print(\"Congratulations!\")\n",
    "elif grade == \"B\":\n",
    "    print (\"Good\")\n",
    "elif grade == \"C\":\n",
    "    print (\"Pass\")\n",
    "else:\n",
    "    print (\"No such grade in the system\")\n",
    "    print('wen han is handsome')"
   ]
  },
  {
   "cell_type": "code",
   "execution_count": 3,
   "id": "6b705ac4",
   "metadata": {},
   "outputs": [
    {
     "name": "stdout",
     "output_type": "stream",
     "text": [
      "else\n",
      "No such grade in the system\n",
      "wen han is handsome\n"
     ]
    }
   ],
   "source": [
    "grade = input()\n",
    "if grade == 'A':\n",
    "    print(\"Congratulations!\")\n",
    "elif grade == \"B\":\n",
    "    print (\"Good\")\n",
    "elif grade == \"C\":\n",
    "    print (\"Pass\")\n",
    "else:\n",
    "    print (\"No such grade in the system\")\n",
    "    print('wen han is handsome')"
   ]
  },
  {
   "cell_type": "code",
   "execution_count": 4,
   "id": "2783db15",
   "metadata": {},
   "outputs": [
    {
     "name": "stdout",
     "output_type": "stream",
     "text": [
      "a\n",
      "No such grade in the system\n",
      "wen han is handsome\n"
     ]
    }
   ],
   "source": [
    "grade = input()\n",
    "if grade == 'A':\n",
    "    print(\"Congratulations!\")\n",
    "elif grade == \"B\":\n",
    "    print (\"Good\")\n",
    "elif grade == \"C\":\n",
    "    print (\"Pass\")\n",
    "else:\n",
    "    print (\"No such grade in the system\")\n",
    "    print('wen han is handsome')"
   ]
  },
  {
   "cell_type": "code",
   "execution_count": 5,
   "id": "2aa46f47",
   "metadata": {},
   "outputs": [
    {
     "ename": "SyntaxError",
     "evalue": "expected ':' (570602628.py, line 1)",
     "output_type": "error",
     "traceback": [
      "\u001b[1;36m  Cell \u001b[1;32mIn[5], line 1\u001b[1;36m\u001b[0m\n\u001b[1;33m    while grade == 'A' and grade == 'B' and grade == 'C'\u001b[0m\n\u001b[1;37m                                                        ^\u001b[0m\n\u001b[1;31mSyntaxError\u001b[0m\u001b[1;31m:\u001b[0m expected ':'\n"
     ]
    }
   ],
   "source": [
    "while grade == 'A' and grade == 'B' and grade == 'C'\n",
    "grade = input()\n",
    "if grade == 'A':\n",
    "    print(\"Congratulations!\")\n",
    "elif grade == \"B\":\n",
    "    print (\"Good\")\n",
    "elif grade == \"C\":\n",
    "    print (\"Pass\")\n",
    "else:\n",
    "    print (\"No such grade in the system\")\n",
    "    print('wen han is handsome')"
   ]
  },
  {
   "cell_type": "code",
   "execution_count": 6,
   "id": "82cdb47e",
   "metadata": {},
   "outputs": [
    {
     "ename": "IndentationError",
     "evalue": "expected an indented block after 'while' statement on line 1 (1720037935.py, line 2)",
     "output_type": "error",
     "traceback": [
      "\u001b[1;36m  Cell \u001b[1;32mIn[6], line 2\u001b[1;36m\u001b[0m\n\u001b[1;33m    grade = input()\u001b[0m\n\u001b[1;37m    ^\u001b[0m\n\u001b[1;31mIndentationError\u001b[0m\u001b[1;31m:\u001b[0m expected an indented block after 'while' statement on line 1\n"
     ]
    }
   ],
   "source": [
    "while grade == 'A' and grade == 'B' and grade == 'C':\n",
    "grade = input()\n",
    "if grade == 'A':\n",
    "    print(\"Congratulations!\")\n",
    "elif grade == \"B\":\n",
    "    print (\"Good\")\n",
    "elif grade == \"C\":\n",
    "    print (\"Pass\")\n",
    "else:\n",
    "    print (\"No such grade in the system\")\n",
    "    print('wen han is handsome')\n",
    "else: \n"
   ]
  },
  {
   "cell_type": "code",
   "execution_count": 7,
   "id": "7e135632",
   "metadata": {},
   "outputs": [
    {
     "name": "stdout",
     "output_type": "stream",
     "text": [
      "nothing\n"
     ]
    }
   ],
   "source": [
    "while grade == 'A' and grade == 'B' and grade == 'C':\n",
    "    grade = input()\n",
    "    if grade == 'A':\n",
    "        print(\"Congratulations!\")\n",
    "    elif grade == \"B\":\n",
    "        print (\"Good\")\n",
    "    elif grade == \"C\":\n",
    "        print (\"Pass\")\n",
    "    else:\n",
    "        print (\"No such grade in the system\")\n",
    "        print('wen han is handsome')\n",
    "else: \n",
    "    print (\"nothing\")\n"
   ]
  },
  {
   "cell_type": "code",
   "execution_count": 8,
   "id": "29d522b8",
   "metadata": {},
   "outputs": [
    {
     "name": "stdout",
     "output_type": "stream",
     "text": [
      "nothing\n"
     ]
    }
   ],
   "source": [
    "while grade == 'A' and grade == 'B' and grade == 'C':\n",
    "    grade = input()\n",
    "    if grade == 'A':\n",
    "        print(\"Congratulations!\")\n",
    "    elif grade == \"B\":\n",
    "        print (\"Good\")\n",
    "    elif grade == \"C\":\n",
    "        print (\"Pass\")\n",
    "    else:\n",
    "        print (\"No such grade in the system\")\n",
    "        print('wen han is handsome')\n",
    "else: \n",
    "    print (\"nothing\")"
   ]
  },
  {
   "cell_type": "code",
   "execution_count": 9,
   "id": "9568023b",
   "metadata": {},
   "outputs": [
    {
     "name": "stdout",
     "output_type": "stream",
     "text": [
      "a\n",
      "nothing\n"
     ]
    }
   ],
   "source": [
    "grade = input()\n",
    "while grade == 'A' and grade == 'B' and grade == 'C':\n",
    "    grade = input()\n",
    "    if grade == 'A':\n",
    "        print(\"Congratulations!\")\n",
    "    elif grade == \"B\":\n",
    "        print (\"Good\")\n",
    "    elif grade == \"C\":\n",
    "        print (\"Pass\")\n",
    "    else:\n",
    "        print (\"No such grade in the system\")\n",
    "        print('wen han is handsome')\n",
    "else: \n",
    "    print (\"nothing\")"
   ]
  },
  {
   "cell_type": "code",
   "execution_count": 10,
   "id": "04fe6fc8",
   "metadata": {},
   "outputs": [
    {
     "name": "stdout",
     "output_type": "stream",
     "text": [
      "a\n",
      "nothing\n"
     ]
    }
   ],
   "source": [
    "grade = input()\n",
    "\n",
    "while grade == 'A' or grade == 'B' or grade == 'C':\n",
    "    grade = input()\n",
    "    if grade == 'A':\n",
    "        print(\"Congratulations!\")\n",
    "    elif grade == \"B\":\n",
    "        print (\"Good\")\n",
    "    elif grade == \"C\":\n",
    "        print (\"Pass\")\n",
    "    else:\n",
    "        print (\"No such grade in the system\")\n",
    "        print('wen han is handsome')\n",
    "else: \n",
    "    print (\"nothing\")"
   ]
  },
  {
   "cell_type": "code",
   "execution_count": 11,
   "id": "eb66cef5",
   "metadata": {},
   "outputs": [
    {
     "name": "stdout",
     "output_type": "stream",
     "text": [
      "A\n",
      "A\n",
      "Congratulations!\n",
      "B\n",
      "Good\n",
      "C\n",
      "Pass\n",
      "A\n",
      "Congratulations!\n",
      "B\n",
      "Good\n",
      "C\n",
      "Pass\n",
      "A\n",
      "Congratulations!\n",
      "B\n",
      "Good\n",
      "C\n",
      "Pass\n",
      "A\n",
      "Congratulations!\n",
      "B\n",
      "Good\n",
      "C\n",
      "Pass\n",
      "A\n",
      "Congratulations!\n",
      "B\n",
      "Good\n",
      "C\n",
      "Pass\n",
      "A\n",
      "Congratulations!\n",
      "A\n",
      "Congratulations!\n",
      "A\n",
      "Congratulations!\n",
      "A\n",
      "Congratulations!\n",
      "A\n",
      "Congratulations!\n"
     ]
    },
    {
     "ename": "KeyboardInterrupt",
     "evalue": "Interrupted by user",
     "output_type": "error",
     "traceback": [
      "\u001b[1;31m---------------------------------------------------------------------------\u001b[0m",
      "\u001b[1;31mKeyboardInterrupt\u001b[0m                         Traceback (most recent call last)",
      "Cell \u001b[1;32mIn[11], line 4\u001b[0m\n\u001b[0;32m      1\u001b[0m grade \u001b[38;5;241m=\u001b[39m \u001b[38;5;28minput\u001b[39m()\n\u001b[0;32m      3\u001b[0m \u001b[38;5;28;01mwhile\u001b[39;00m grade \u001b[38;5;241m==\u001b[39m \u001b[38;5;124m'\u001b[39m\u001b[38;5;124mA\u001b[39m\u001b[38;5;124m'\u001b[39m \u001b[38;5;129;01mor\u001b[39;00m grade \u001b[38;5;241m==\u001b[39m \u001b[38;5;124m'\u001b[39m\u001b[38;5;124mB\u001b[39m\u001b[38;5;124m'\u001b[39m \u001b[38;5;129;01mor\u001b[39;00m grade \u001b[38;5;241m==\u001b[39m \u001b[38;5;124m'\u001b[39m\u001b[38;5;124mC\u001b[39m\u001b[38;5;124m'\u001b[39m:\n\u001b[1;32m----> 4\u001b[0m     grade \u001b[38;5;241m=\u001b[39m \u001b[38;5;28minput\u001b[39m()\n\u001b[0;32m      5\u001b[0m     \u001b[38;5;28;01mif\u001b[39;00m grade \u001b[38;5;241m==\u001b[39m \u001b[38;5;124m'\u001b[39m\u001b[38;5;124mA\u001b[39m\u001b[38;5;124m'\u001b[39m:\n\u001b[0;32m      6\u001b[0m         \u001b[38;5;28mprint\u001b[39m(\u001b[38;5;124m\"\u001b[39m\u001b[38;5;124mCongratulations!\u001b[39m\u001b[38;5;124m\"\u001b[39m)\n",
      "File \u001b[1;32m~\\anaconda3\\Lib\\site-packages\\ipykernel\\kernelbase.py:1202\u001b[0m, in \u001b[0;36mKernel.raw_input\u001b[1;34m(self, prompt)\u001b[0m\n\u001b[0;32m   1200\u001b[0m     msg \u001b[38;5;241m=\u001b[39m \u001b[38;5;124m\"\u001b[39m\u001b[38;5;124mraw_input was called, but this frontend does not support input requests.\u001b[39m\u001b[38;5;124m\"\u001b[39m\n\u001b[0;32m   1201\u001b[0m     \u001b[38;5;28;01mraise\u001b[39;00m StdinNotImplementedError(msg)\n\u001b[1;32m-> 1202\u001b[0m \u001b[38;5;28;01mreturn\u001b[39;00m \u001b[38;5;28mself\u001b[39m\u001b[38;5;241m.\u001b[39m_input_request(\n\u001b[0;32m   1203\u001b[0m     \u001b[38;5;28mstr\u001b[39m(prompt),\n\u001b[0;32m   1204\u001b[0m     \u001b[38;5;28mself\u001b[39m\u001b[38;5;241m.\u001b[39m_parent_ident[\u001b[38;5;124m\"\u001b[39m\u001b[38;5;124mshell\u001b[39m\u001b[38;5;124m\"\u001b[39m],\n\u001b[0;32m   1205\u001b[0m     \u001b[38;5;28mself\u001b[39m\u001b[38;5;241m.\u001b[39mget_parent(\u001b[38;5;124m\"\u001b[39m\u001b[38;5;124mshell\u001b[39m\u001b[38;5;124m\"\u001b[39m),\n\u001b[0;32m   1206\u001b[0m     password\u001b[38;5;241m=\u001b[39m\u001b[38;5;28;01mFalse\u001b[39;00m,\n\u001b[0;32m   1207\u001b[0m )\n",
      "File \u001b[1;32m~\\anaconda3\\Lib\\site-packages\\ipykernel\\kernelbase.py:1245\u001b[0m, in \u001b[0;36mKernel._input_request\u001b[1;34m(self, prompt, ident, parent, password)\u001b[0m\n\u001b[0;32m   1242\u001b[0m \u001b[38;5;28;01mexcept\u001b[39;00m \u001b[38;5;167;01mKeyboardInterrupt\u001b[39;00m:\n\u001b[0;32m   1243\u001b[0m     \u001b[38;5;66;03m# re-raise KeyboardInterrupt, to truncate traceback\u001b[39;00m\n\u001b[0;32m   1244\u001b[0m     msg \u001b[38;5;241m=\u001b[39m \u001b[38;5;124m\"\u001b[39m\u001b[38;5;124mInterrupted by user\u001b[39m\u001b[38;5;124m\"\u001b[39m\n\u001b[1;32m-> 1245\u001b[0m     \u001b[38;5;28;01mraise\u001b[39;00m \u001b[38;5;167;01mKeyboardInterrupt\u001b[39;00m(msg) \u001b[38;5;28;01mfrom\u001b[39;00m \u001b[38;5;28;01mNone\u001b[39;00m\n\u001b[0;32m   1246\u001b[0m \u001b[38;5;28;01mexcept\u001b[39;00m \u001b[38;5;167;01mException\u001b[39;00m:\n\u001b[0;32m   1247\u001b[0m     \u001b[38;5;28mself\u001b[39m\u001b[38;5;241m.\u001b[39mlog\u001b[38;5;241m.\u001b[39mwarning(\u001b[38;5;124m\"\u001b[39m\u001b[38;5;124mInvalid Message:\u001b[39m\u001b[38;5;124m\"\u001b[39m, exc_info\u001b[38;5;241m=\u001b[39m\u001b[38;5;28;01mTrue\u001b[39;00m)\n",
      "\u001b[1;31mKeyboardInterrupt\u001b[0m: Interrupted by user"
     ]
    }
   ],
   "source": [
    "grade = input()\n",
    "\n",
    "while grade == 'A' or grade == 'B' or grade == 'C':\n",
    "    grade = input()\n",
    "    if grade == 'A':\n",
    "        print(\"Congratulations!\")\n",
    "    elif grade == \"B\":\n",
    "        print (\"Good\")\n",
    "    elif grade == \"C\":\n",
    "        print (\"Pass\")\n",
    "    else:\n",
    "        print (\"No such grade in the system\")\n",
    "        print('wen han is handsome')\n",
    "else: \n",
    "    print (\"nothing\")"
   ]
  },
  {
   "cell_type": "code",
   "execution_count": null,
   "id": "83df362b",
   "metadata": {},
   "outputs": [],
   "source": [
    "andrew = input ()"
   ]
  },
  {
   "cell_type": "code",
   "execution_count": null,
   "id": "2d16db92",
   "metadata": {},
   "outputs": [],
   "source": [
    "print (\"Please enter the number 1, 2 or 3 :\")\n",
    "\n",
    "while andrew = 1 or andrew = 2 or andrew = 3:\n",
    "    if andrew = 1 :\n",
    "        print (\"ur buddy is yiyou\")\n",
    "    elif andrew = 2 :\n",
    "        print (\"ur buddy is not yiyou\")\n",
    "    else :\n",
    "        print (\"u want your buddy to be yiyou\")\n",
    "else : \n",
    "    print(\"you dunno how to read instruction meh?\")"
   ]
  },
  {
   "cell_type": "code",
   "execution_count": null,
   "id": "7a3339cf",
   "metadata": {},
   "outputs": [],
   "source": [
    "print (\"Please enter the number 1, 2 or 3 :\")"
   ]
  },
  {
   "cell_type": "code",
   "execution_count": null,
   "id": "722ee089",
   "metadata": {},
   "outputs": [],
   "source": [
    "print(\"hello\")"
   ]
  },
  {
   "cell_type": "code",
   "execution_count": null,
   "id": "8eaa6702",
   "metadata": {},
   "outputs": [],
   "source": [
    "print (\"Please enter the number 1, 2 or 3 :\")\n",
    "\n",
    "while andrew = \"1\" or andrew = \"2\" or andrew = \"3\":\n",
    "    if andrew == \"1\" :\n",
    "        print (\"ur buddy is yiyou\")\n",
    "    elif andrew = \"2\" :\n",
    "        print (\"ur buddy is not yiyou\")\n",
    "    else :\n",
    "        print (\"u want your buddy to be yiyou\")\n",
    "else : \n",
    "    print(\"you dunno how to read instruction meh?\")"
   ]
  },
  {
   "cell_type": "code",
   "execution_count": null,
   "id": "dd996192",
   "metadata": {},
   "outputs": [],
   "source": [
    "print (\"Please enter the number 1, 2 or 3 :\")\n",
    "\n",
    "while andrew = \"1\" or andrew = \"2\" or andrew = \"3\":\n",
    "    if andrew == \"1\" :\n",
    "        print (\"ur buddy is yiyou\")\n",
    "    elif andrew = \"2\" :\n",
    "        print (\"ur buddy is not yiyou\")\n",
    "    else :\n",
    "        print (\"u want your buddy to be yiyou\")\n",
    "else : \n",
    "    print(\"you dunno how to read instruction meh?\")"
   ]
  },
  {
   "cell_type": "code",
   "execution_count": null,
   "id": "c005e6ce",
   "metadata": {},
   "outputs": [],
   "source": [
    "andrew= input ()\n",
    "print (\"Please enter the number 1, 2 or 3 :\")\n",
    "\n",
    "while andrew = \"1\" or andrew = \"2\" or andrew = \"3\":\n",
    "    if andrew == \"1\" :\n",
    "        print (\"ur buddy is yiyou\")\n",
    "    elif andrew = \"2\" :\n",
    "        print (\"ur buddy is not yiyou\")\n",
    "    else :\n",
    "        print (\"u want your buddy to be yiyou\")\n",
    "else : \n",
    "    print(\"you dunno how to read instruction meh?\")"
   ]
  },
  {
   "cell_type": "code",
   "execution_count": null,
   "id": "cb3932b8",
   "metadata": {},
   "outputs": [],
   "source": [
    "1"
   ]
  },
  {
   "cell_type": "code",
   "execution_count": null,
   "id": "56d107a8",
   "metadata": {},
   "outputs": [],
   "source": [
    "andrew = input()"
   ]
  },
  {
   "cell_type": "code",
   "execution_count": null,
   "id": "4707cb4a",
   "metadata": {},
   "outputs": [],
   "source": [
    "grade = input()\n",
    "\n",
    "while grade == 'A' or grade == 'B' or grade == 'C':\n",
    "    grade = input()\n",
    "    if grade == 'A':\n",
    "        print(\"Congratulations!\")\n",
    "    elif grade == \"B\":\n",
    "        print (\"Good\")\n",
    "    elif grade == \"C\":\n",
    "        print (\"Pass\")\n",
    "    else:\n",
    "        print (\"No such grade in the system\")\n",
    "        print('wen han is handsome')\n",
    "else: \n",
    "    print (\"nothing\")"
   ]
  },
  {
   "cell_type": "code",
   "execution_count": 12,
   "id": "304c962e",
   "metadata": {},
   "outputs": [
    {
     "name": "stdout",
     "output_type": "stream",
     "text": [
      "A\n",
      "B\n",
      "Good\n",
      "C\n",
      "Pass\n"
     ]
    },
    {
     "ename": "KeyboardInterrupt",
     "evalue": "Interrupted by user",
     "output_type": "error",
     "traceback": [
      "\u001b[1;31m---------------------------------------------------------------------------\u001b[0m",
      "\u001b[1;31mKeyboardInterrupt\u001b[0m                         Traceback (most recent call last)",
      "Cell \u001b[1;32mIn[12], line 4\u001b[0m\n\u001b[0;32m      1\u001b[0m grade \u001b[38;5;241m=\u001b[39m \u001b[38;5;28minput\u001b[39m()\n\u001b[0;32m      3\u001b[0m \u001b[38;5;28;01mwhile\u001b[39;00m grade \u001b[38;5;241m==\u001b[39m \u001b[38;5;124m'\u001b[39m\u001b[38;5;124mA\u001b[39m\u001b[38;5;124m'\u001b[39m \u001b[38;5;129;01mor\u001b[39;00m grade \u001b[38;5;241m==\u001b[39m \u001b[38;5;124m'\u001b[39m\u001b[38;5;124mB\u001b[39m\u001b[38;5;124m'\u001b[39m \u001b[38;5;129;01mor\u001b[39;00m grade \u001b[38;5;241m==\u001b[39m \u001b[38;5;124m'\u001b[39m\u001b[38;5;124mC\u001b[39m\u001b[38;5;124m'\u001b[39m:\n\u001b[1;32m----> 4\u001b[0m     grade \u001b[38;5;241m=\u001b[39m \u001b[38;5;28minput\u001b[39m()\n\u001b[0;32m      5\u001b[0m     \u001b[38;5;28;01mif\u001b[39;00m grade \u001b[38;5;241m==\u001b[39m \u001b[38;5;124m'\u001b[39m\u001b[38;5;124mA\u001b[39m\u001b[38;5;124m'\u001b[39m:\n\u001b[0;32m      6\u001b[0m         \u001b[38;5;28mprint\u001b[39m(\u001b[38;5;124m\"\u001b[39m\u001b[38;5;124mCongratulations!\u001b[39m\u001b[38;5;124m\"\u001b[39m)\n",
      "File \u001b[1;32m~\\anaconda3\\Lib\\site-packages\\ipykernel\\kernelbase.py:1202\u001b[0m, in \u001b[0;36mKernel.raw_input\u001b[1;34m(self, prompt)\u001b[0m\n\u001b[0;32m   1200\u001b[0m     msg \u001b[38;5;241m=\u001b[39m \u001b[38;5;124m\"\u001b[39m\u001b[38;5;124mraw_input was called, but this frontend does not support input requests.\u001b[39m\u001b[38;5;124m\"\u001b[39m\n\u001b[0;32m   1201\u001b[0m     \u001b[38;5;28;01mraise\u001b[39;00m StdinNotImplementedError(msg)\n\u001b[1;32m-> 1202\u001b[0m \u001b[38;5;28;01mreturn\u001b[39;00m \u001b[38;5;28mself\u001b[39m\u001b[38;5;241m.\u001b[39m_input_request(\n\u001b[0;32m   1203\u001b[0m     \u001b[38;5;28mstr\u001b[39m(prompt),\n\u001b[0;32m   1204\u001b[0m     \u001b[38;5;28mself\u001b[39m\u001b[38;5;241m.\u001b[39m_parent_ident[\u001b[38;5;124m\"\u001b[39m\u001b[38;5;124mshell\u001b[39m\u001b[38;5;124m\"\u001b[39m],\n\u001b[0;32m   1205\u001b[0m     \u001b[38;5;28mself\u001b[39m\u001b[38;5;241m.\u001b[39mget_parent(\u001b[38;5;124m\"\u001b[39m\u001b[38;5;124mshell\u001b[39m\u001b[38;5;124m\"\u001b[39m),\n\u001b[0;32m   1206\u001b[0m     password\u001b[38;5;241m=\u001b[39m\u001b[38;5;28;01mFalse\u001b[39;00m,\n\u001b[0;32m   1207\u001b[0m )\n",
      "File \u001b[1;32m~\\anaconda3\\Lib\\site-packages\\ipykernel\\kernelbase.py:1245\u001b[0m, in \u001b[0;36mKernel._input_request\u001b[1;34m(self, prompt, ident, parent, password)\u001b[0m\n\u001b[0;32m   1242\u001b[0m \u001b[38;5;28;01mexcept\u001b[39;00m \u001b[38;5;167;01mKeyboardInterrupt\u001b[39;00m:\n\u001b[0;32m   1243\u001b[0m     \u001b[38;5;66;03m# re-raise KeyboardInterrupt, to truncate traceback\u001b[39;00m\n\u001b[0;32m   1244\u001b[0m     msg \u001b[38;5;241m=\u001b[39m \u001b[38;5;124m\"\u001b[39m\u001b[38;5;124mInterrupted by user\u001b[39m\u001b[38;5;124m\"\u001b[39m\n\u001b[1;32m-> 1245\u001b[0m     \u001b[38;5;28;01mraise\u001b[39;00m \u001b[38;5;167;01mKeyboardInterrupt\u001b[39;00m(msg) \u001b[38;5;28;01mfrom\u001b[39;00m \u001b[38;5;28;01mNone\u001b[39;00m\n\u001b[0;32m   1246\u001b[0m \u001b[38;5;28;01mexcept\u001b[39;00m \u001b[38;5;167;01mException\u001b[39;00m:\n\u001b[0;32m   1247\u001b[0m     \u001b[38;5;28mself\u001b[39m\u001b[38;5;241m.\u001b[39mlog\u001b[38;5;241m.\u001b[39mwarning(\u001b[38;5;124m\"\u001b[39m\u001b[38;5;124mInvalid Message:\u001b[39m\u001b[38;5;124m\"\u001b[39m, exc_info\u001b[38;5;241m=\u001b[39m\u001b[38;5;28;01mTrue\u001b[39;00m)\n",
      "\u001b[1;31mKeyboardInterrupt\u001b[0m: Interrupted by user"
     ]
    }
   ],
   "source": [
    "grade = input()\n",
    "\n",
    "while grade == 'A' or grade == 'B' or grade == 'C':\n",
    "    grade = input()\n",
    "    if grade == 'A':\n",
    "        print(\"Congratulations!\")\n",
    "    elif grade == \"B\":\n",
    "        print (\"Good\")\n",
    "    elif grade == \"C\":\n",
    "        print (\"Pass\")\n",
    "    else:\n",
    "        print (\"No such grade in the system\")\n",
    "        print('wen han is handsome')\n",
    "else: \n",
    "    print (\"nothing\")"
   ]
  },
  {
   "cell_type": "code",
   "execution_count": 13,
   "id": "bc662f21",
   "metadata": {},
   "outputs": [
    {
     "ename": "SyntaxError",
     "evalue": "invalid syntax. Maybe you meant '==' or ':=' instead of '='? (3427077110.py, line 3)",
     "output_type": "error",
     "traceback": [
      "\u001b[1;36m  Cell \u001b[1;32mIn[13], line 3\u001b[1;36m\u001b[0m\n\u001b[1;33m    while andrew = \"1\" or andrew = \"2\" or andrew = \"3\":\u001b[0m\n\u001b[1;37m          ^\u001b[0m\n\u001b[1;31mSyntaxError\u001b[0m\u001b[1;31m:\u001b[0m invalid syntax. Maybe you meant '==' or ':=' instead of '='?\n"
     ]
    }
   ],
   "source": [
    "print (\"Please enter the number 1, 2 or 3 :\")\n",
    "\n",
    "while andrew = \"1\" or andrew = \"2\" or andrew = \"3\":\n",
    "    if andrew == \"1\" :\n",
    "        print (\"ur buddy is yiyou\")\n",
    "    elif andrew = \"2\" :\n",
    "        print (\"ur buddy is not yiyou\")\n",
    "    else :\n",
    "        print (\"u want your buddy to be yiyou\")\n",
    "else : \n",
    "    print(\"you dunno how to read instruction meh?\")"
   ]
  },
  {
   "cell_type": "code",
   "execution_count": 14,
   "id": "b6808e4f",
   "metadata": {},
   "outputs": [
    {
     "ename": "SyntaxError",
     "evalue": "invalid syntax. Maybe you meant '==' or ':=' instead of '='? (2406540790.py, line 6)",
     "output_type": "error",
     "traceback": [
      "\u001b[1;36m  Cell \u001b[1;32mIn[14], line 6\u001b[1;36m\u001b[0m\n\u001b[1;33m    elif andrew = \"2\" :\u001b[0m\n\u001b[1;37m         ^\u001b[0m\n\u001b[1;31mSyntaxError\u001b[0m\u001b[1;31m:\u001b[0m invalid syntax. Maybe you meant '==' or ':=' instead of '='?\n"
     ]
    }
   ],
   "source": [
    "print (\"Please enter the number 1, 2 or 3 :\")\n",
    "\n",
    "while andrew == \"1\" or andrew == \"2\" or andrew == \"3\":\n",
    "    if andrew == \"1\" :\n",
    "        print (\"ur buddy is yiyou\")\n",
    "    elif andrew = \"2\" :\n",
    "        print (\"ur buddy is not yiyou\")\n",
    "    else :\n",
    "        print (\"u want your buddy to be yiyou\")\n",
    "else : \n",
    "    print(\"you dunno how to read instruction meh?\")"
   ]
  },
  {
   "cell_type": "code",
   "execution_count": 15,
   "id": "617cf1f6",
   "metadata": {},
   "outputs": [
    {
     "name": "stdout",
     "output_type": "stream",
     "text": [
      "Please enter the number 1, 2 or 3 :\n"
     ]
    },
    {
     "ename": "NameError",
     "evalue": "name 'andrew' is not defined",
     "output_type": "error",
     "traceback": [
      "\u001b[1;31m---------------------------------------------------------------------------\u001b[0m",
      "\u001b[1;31mNameError\u001b[0m                                 Traceback (most recent call last)",
      "Cell \u001b[1;32mIn[15], line 3\u001b[0m\n\u001b[0;32m      1\u001b[0m \u001b[38;5;28mprint\u001b[39m (\u001b[38;5;124m\"\u001b[39m\u001b[38;5;124mPlease enter the number 1, 2 or 3 :\u001b[39m\u001b[38;5;124m\"\u001b[39m)\n\u001b[1;32m----> 3\u001b[0m \u001b[38;5;28;01mwhile\u001b[39;00m andrew \u001b[38;5;241m==\u001b[39m \u001b[38;5;124m\"\u001b[39m\u001b[38;5;124m1\u001b[39m\u001b[38;5;124m\"\u001b[39m \u001b[38;5;129;01mor\u001b[39;00m andrew \u001b[38;5;241m==\u001b[39m \u001b[38;5;124m\"\u001b[39m\u001b[38;5;124m2\u001b[39m\u001b[38;5;124m\"\u001b[39m \u001b[38;5;129;01mor\u001b[39;00m andrew \u001b[38;5;241m==\u001b[39m \u001b[38;5;124m\"\u001b[39m\u001b[38;5;124m3\u001b[39m\u001b[38;5;124m\"\u001b[39m:\n\u001b[0;32m      4\u001b[0m     \u001b[38;5;28;01mif\u001b[39;00m andrew \u001b[38;5;241m==\u001b[39m \u001b[38;5;124m\"\u001b[39m\u001b[38;5;124m1\u001b[39m\u001b[38;5;124m\"\u001b[39m :\n\u001b[0;32m      5\u001b[0m         \u001b[38;5;28mprint\u001b[39m (\u001b[38;5;124m\"\u001b[39m\u001b[38;5;124mur buddy is yiyou\u001b[39m\u001b[38;5;124m\"\u001b[39m)\n",
      "\u001b[1;31mNameError\u001b[0m: name 'andrew' is not defined"
     ]
    }
   ],
   "source": [
    "print (\"Please enter the number 1, 2 or 3 :\")\n",
    "\n",
    "while andrew == \"1\" or andrew == \"2\" or andrew == \"3\":\n",
    "    if andrew == \"1\" :\n",
    "        print (\"ur buddy is yiyou\")\n",
    "    elif andrew == \"2\" :\n",
    "        print (\"ur buddy is not yiyou\")\n",
    "    else :\n",
    "        print (\"u want your buddy to be yiyou\")\n",
    "else : \n",
    "    print(\"you dunno how to read instruction meh?\")"
   ]
  },
  {
   "cell_type": "code",
   "execution_count": 16,
   "id": "271cb980",
   "metadata": {},
   "outputs": [
    {
     "name": "stdout",
     "output_type": "stream",
     "text": [
      "Please enter the number 1, 2 or 3 :\n",
      "you dunno how to read instruction meh?\n"
     ]
    }
   ],
   "source": [
    "print (\"Please enter the number 1, 2 or 3 :\")\n",
    "andrew = 1\n",
    "\n",
    "while andrew == \"1\" or andrew == \"2\" or andrew == \"3\":\n",
    "    andrew = input()\n",
    "    if andrew == \"1\" :\n",
    "        print (\"ur buddy is yiyou\")\n",
    "    elif andrew == \"2\" :\n",
    "        print (\"ur buddy is not yiyou\")\n",
    "    else :\n",
    "        print (\"u want your buddy to be yiyou\")\n",
    "else : \n",
    "    print(\"you dunno how to read instruction meh?\")"
   ]
  },
  {
   "cell_type": "code",
   "execution_count": 17,
   "id": "2d3e2cd3",
   "metadata": {},
   "outputs": [
    {
     "name": "stdout",
     "output_type": "stream",
     "text": [
      "Please enter the number 1, 2 or 3 :\n",
      "1\n",
      "u want your buddy to be yiyou\n",
      "you dunno how to read instruction meh?\n"
     ]
    }
   ],
   "source": [
    "print (\"Please enter the number 1, 2 or 3 :\")\n",
    "andrew = 1\n",
    "\n",
    "while andrew == 1 or andrew == 2 or andrew == 3:\n",
    "    andrew = input()\n",
    "    if andrew == 1 :\n",
    "        print (\"ur buddy is yiyou\")\n",
    "    elif andrew == 2 :\n",
    "        print (\"ur buddy is not yiyou\")\n",
    "    else :\n",
    "        print (\"u want your buddy to be yiyou\")\n",
    "else : \n",
    "    print(\"you dunno how to read instruction meh?\")"
   ]
  },
  {
   "cell_type": "code",
   "execution_count": 18,
   "id": "ba9f111a",
   "metadata": {},
   "outputs": [
    {
     "name": "stdout",
     "output_type": "stream",
     "text": [
      "Please enter the number 1, 2 or 3 :\n",
      "1\n",
      "u dunno how to read instruction meh?\n"
     ]
    }
   ],
   "source": [
    "print (\"Please enter the number 1, 2 or 3 :\")\n",
    "wh = 1\n",
    "\n",
    "while wh == 1 or wh == 2 or wh == 3:\n",
    "    wh = input()\n",
    "    if wh == 1 :\n",
    "        print (\"ur buddy is yiyou\")\n",
    "    elif wh == 2 :\n",
    "        print (\"ur buddy is not yiyou\")\n",
    "    elif wh == 3 :\n",
    "        print (\"u want your buddy to be yiyou\")\n",
    "    else :\n",
    "        print (\"u dunno how to read instruction meh?\")\n",
    "        wh = 0\n",
    "\n"
   ]
  },
  {
   "cell_type": "code",
   "execution_count": 19,
   "id": "35f79d12",
   "metadata": {},
   "outputs": [
    {
     "name": "stdout",
     "output_type": "stream",
     "text": [
      "Please enter the number 1, 2 or 3 :\n"
     ]
    }
   ],
   "source": [
    "print (\"Please enter the number 1, 2 or 3 :\")\n",
    "wh = 1\n",
    "\n",
    "while wh == \"1\" or wh == \"2\" or wh == \"3\":\n",
    "    wh = input()\n",
    "    if wh == \"1\" :\n",
    "        print (\"ur buddy is yiyou\")\n",
    "    elif wh == \"2\" :\n",
    "        print (\"ur buddy is not yiyou\")\n",
    "    elif wh == \"3\" :\n",
    "        print (\"u want your buddy to be yiyou\")\n",
    "    else :\n",
    "        print (\"u dunno how to read instruction meh?\")\n",
    "        wh = 0\n",
    "    "
   ]
  },
  {
   "cell_type": "code",
   "execution_count": 20,
   "id": "79029a5d",
   "metadata": {},
   "outputs": [
    {
     "name": "stdout",
     "output_type": "stream",
     "text": [
      "Please enter the number 1, 2 or 3 :\n"
     ]
    }
   ],
   "source": [
    "print (\"Please enter the number 1, 2 or 3 :\")\n",
    "wh = 1\n",
    "\n",
    "while wh == \"1\" or wh == \"2\" or wh == \"3\":\n",
    "    wh = input()\n",
    "    if wh == \"1\" :\n",
    "        print (\"ur buddy is yiyou\")\n",
    "    elif wh == \"2\" :\n",
    "        print (\"ur buddy is not yiyou\")\n",
    "    elif wh == \"3\" :\n",
    "        print (\"u want your buddy to be yiyou\")\n",
    "    else :\n",
    "        print (\"u dunno how to read instruction meh?\")\n",
    "        wh = 0"
   ]
  },
  {
   "cell_type": "code",
   "execution_count": 21,
   "id": "7137b857",
   "metadata": {},
   "outputs": [
    {
     "name": "stdout",
     "output_type": "stream",
     "text": [
      "Please enter the number 1, 2 or 3 :\n",
      "1\n",
      "u dunno how to read instruction meh?\n"
     ]
    }
   ],
   "source": [
    "print (\"Please enter the number 1, 2 or 3 :\")\n",
    "wh = 1\n",
    "\n",
    "while wh == 1 or wh == 2 or wh == 3:\n",
    "    wh = input()\n",
    "    if wh == 1 :\n",
    "        print (\"ur buddy is yiyou\")\n",
    "        print (type(wh))\n",
    "    elif wh == 2 :\n",
    "        print (\"ur buddy is not yiyou\")\n",
    "    elif wh == 3 :\n",
    "        print (\"u want your buddy to be yiyou\")\n",
    "    else :\n",
    "        print (\"u dunno how to read instruction meh?\")\n",
    "        wh = 0"
   ]
  },
  {
   "cell_type": "code",
   "execution_count": 22,
   "id": "503a5e26",
   "metadata": {},
   "outputs": [
    {
     "name": "stdout",
     "output_type": "stream",
     "text": [
      "1\n",
      "<class 'str'>\n"
     ]
    }
   ],
   "source": [
    "wh = input ()\n",
    "print (type(wh))"
   ]
  },
  {
   "cell_type": "code",
   "execution_count": 23,
   "id": "037b5c25",
   "metadata": {},
   "outputs": [
    {
     "name": "stdout",
     "output_type": "stream",
     "text": [
      "1\n",
      "<class 'int'>\n"
     ]
    }
   ],
   "source": [
    "wh = int(input ())\n",
    "print (type(wh))"
   ]
  },
  {
   "cell_type": "code",
   "execution_count": 24,
   "id": "2e2e4dff",
   "metadata": {},
   "outputs": [
    {
     "name": "stdout",
     "output_type": "stream",
     "text": [
      "Please enter the number 1, 2 or 3 :\n",
      "1\n",
      "ur buddy is yiyou\n",
      "<class 'int'>\n",
      "2\n",
      "ur buddy is not yiyou\n",
      "3\n",
      "u want your buddy to be yiyou\n"
     ]
    },
    {
     "ename": "KeyboardInterrupt",
     "evalue": "Interrupted by user",
     "output_type": "error",
     "traceback": [
      "\u001b[1;31m---------------------------------------------------------------------------\u001b[0m",
      "\u001b[1;31mKeyboardInterrupt\u001b[0m                         Traceback (most recent call last)",
      "Cell \u001b[1;32mIn[24], line 5\u001b[0m\n\u001b[0;32m      2\u001b[0m wh \u001b[38;5;241m=\u001b[39m \u001b[38;5;241m1\u001b[39m\n\u001b[0;32m      4\u001b[0m \u001b[38;5;28;01mwhile\u001b[39;00m wh \u001b[38;5;241m==\u001b[39m \u001b[38;5;241m1\u001b[39m \u001b[38;5;129;01mor\u001b[39;00m wh \u001b[38;5;241m==\u001b[39m \u001b[38;5;241m2\u001b[39m \u001b[38;5;129;01mor\u001b[39;00m wh \u001b[38;5;241m==\u001b[39m \u001b[38;5;241m3\u001b[39m:\n\u001b[1;32m----> 5\u001b[0m     wh \u001b[38;5;241m=\u001b[39m \u001b[38;5;28mint\u001b[39m(\u001b[38;5;28minput\u001b[39m())\n\u001b[0;32m      6\u001b[0m     \u001b[38;5;28;01mif\u001b[39;00m wh \u001b[38;5;241m==\u001b[39m \u001b[38;5;241m1\u001b[39m :\n\u001b[0;32m      7\u001b[0m         \u001b[38;5;28mprint\u001b[39m (\u001b[38;5;124m\"\u001b[39m\u001b[38;5;124mur buddy is yiyou\u001b[39m\u001b[38;5;124m\"\u001b[39m)\n",
      "File \u001b[1;32m~\\anaconda3\\Lib\\site-packages\\ipykernel\\kernelbase.py:1202\u001b[0m, in \u001b[0;36mKernel.raw_input\u001b[1;34m(self, prompt)\u001b[0m\n\u001b[0;32m   1200\u001b[0m     msg \u001b[38;5;241m=\u001b[39m \u001b[38;5;124m\"\u001b[39m\u001b[38;5;124mraw_input was called, but this frontend does not support input requests.\u001b[39m\u001b[38;5;124m\"\u001b[39m\n\u001b[0;32m   1201\u001b[0m     \u001b[38;5;28;01mraise\u001b[39;00m StdinNotImplementedError(msg)\n\u001b[1;32m-> 1202\u001b[0m \u001b[38;5;28;01mreturn\u001b[39;00m \u001b[38;5;28mself\u001b[39m\u001b[38;5;241m.\u001b[39m_input_request(\n\u001b[0;32m   1203\u001b[0m     \u001b[38;5;28mstr\u001b[39m(prompt),\n\u001b[0;32m   1204\u001b[0m     \u001b[38;5;28mself\u001b[39m\u001b[38;5;241m.\u001b[39m_parent_ident[\u001b[38;5;124m\"\u001b[39m\u001b[38;5;124mshell\u001b[39m\u001b[38;5;124m\"\u001b[39m],\n\u001b[0;32m   1205\u001b[0m     \u001b[38;5;28mself\u001b[39m\u001b[38;5;241m.\u001b[39mget_parent(\u001b[38;5;124m\"\u001b[39m\u001b[38;5;124mshell\u001b[39m\u001b[38;5;124m\"\u001b[39m),\n\u001b[0;32m   1206\u001b[0m     password\u001b[38;5;241m=\u001b[39m\u001b[38;5;28;01mFalse\u001b[39;00m,\n\u001b[0;32m   1207\u001b[0m )\n",
      "File \u001b[1;32m~\\anaconda3\\Lib\\site-packages\\ipykernel\\kernelbase.py:1245\u001b[0m, in \u001b[0;36mKernel._input_request\u001b[1;34m(self, prompt, ident, parent, password)\u001b[0m\n\u001b[0;32m   1242\u001b[0m \u001b[38;5;28;01mexcept\u001b[39;00m \u001b[38;5;167;01mKeyboardInterrupt\u001b[39;00m:\n\u001b[0;32m   1243\u001b[0m     \u001b[38;5;66;03m# re-raise KeyboardInterrupt, to truncate traceback\u001b[39;00m\n\u001b[0;32m   1244\u001b[0m     msg \u001b[38;5;241m=\u001b[39m \u001b[38;5;124m\"\u001b[39m\u001b[38;5;124mInterrupted by user\u001b[39m\u001b[38;5;124m\"\u001b[39m\n\u001b[1;32m-> 1245\u001b[0m     \u001b[38;5;28;01mraise\u001b[39;00m \u001b[38;5;167;01mKeyboardInterrupt\u001b[39;00m(msg) \u001b[38;5;28;01mfrom\u001b[39;00m \u001b[38;5;28;01mNone\u001b[39;00m\n\u001b[0;32m   1246\u001b[0m \u001b[38;5;28;01mexcept\u001b[39;00m \u001b[38;5;167;01mException\u001b[39;00m:\n\u001b[0;32m   1247\u001b[0m     \u001b[38;5;28mself\u001b[39m\u001b[38;5;241m.\u001b[39mlog\u001b[38;5;241m.\u001b[39mwarning(\u001b[38;5;124m\"\u001b[39m\u001b[38;5;124mInvalid Message:\u001b[39m\u001b[38;5;124m\"\u001b[39m, exc_info\u001b[38;5;241m=\u001b[39m\u001b[38;5;28;01mTrue\u001b[39;00m)\n",
      "\u001b[1;31mKeyboardInterrupt\u001b[0m: Interrupted by user"
     ]
    }
   ],
   "source": [
    "print (\"Please enter the number 1, 2 or 3 :\")\n",
    "wh = 1\n",
    "\n",
    "while wh == 1 or wh == 2 or wh == 3:\n",
    "    wh = int(input())\n",
    "    if wh == 1 :\n",
    "        print (\"ur buddy is yiyou\")\n",
    "        print (type(wh))\n",
    "    elif wh == 2 :\n",
    "        print (\"ur buddy is not yiyou\")\n",
    "    elif wh == 3 :\n",
    "        print (\"u want your buddy to be yiyou\")\n",
    "    else :\n",
    "        print (\"u dunno how to read instruction meh?\")\n",
    "        wh = 0"
   ]
  },
  {
   "cell_type": "code",
   "execution_count": 25,
   "id": "bfee980d",
   "metadata": {},
   "outputs": [
    {
     "name": "stdout",
     "output_type": "stream",
     "text": [
      "Please enter the number 1, 2 or 3 :\n",
      "1\n",
      "ur buddy is yiyou\n",
      "2\n",
      "ur buddy is not yiyou\n",
      "3\n",
      "u want your buddy to be yiyou\n",
      "4\n",
      "u dunno how to read instruction meh?\n"
     ]
    }
   ],
   "source": [
    "print (\"Please enter the number 1, 2 or 3 :\")\n",
    "wh = 1\n",
    "\n",
    "while wh == 1 or wh == 2 or wh == 3:\n",
    "    wh = int(input())\n",
    "    if wh == 1 :\n",
    "        print (\"ur buddy is yiyou\")\n",
    "    elif wh == 2 :\n",
    "        print (\"ur buddy is not yiyou\")\n",
    "    elif wh == 3 :\n",
    "        print (\"u want your buddy to be yiyou\")\n",
    "    else :\n",
    "        print (\"u dunno how to read instruction meh?\")\n",
    "        wh = 0"
   ]
  },
  {
   "cell_type": "code",
   "execution_count": 26,
   "id": "1e24799b",
   "metadata": {},
   "outputs": [
    {
     "name": "stdout",
     "output_type": "stream",
     "text": [
      "Please enter the number 1, 2 or 3 :\n",
      "100\n",
      "u dunno how to read instruction meh?\n"
     ]
    }
   ],
   "source": [
    "print (\"Please enter the number 1, 2 or 3 :\")\n",
    "wh = 1\n",
    "\n",
    "while wh == 1 or wh == 2 or wh == 3:\n",
    "    wh = int(input())\n",
    "    if wh == 1 :\n",
    "        print (\"ur buddy is yiyou\")\n",
    "    elif wh == 2 :\n",
    "        print (\"ur buddy is not yiyou\")\n",
    "    elif wh == 3 :\n",
    "        print (\"u want your buddy to be yiyou\")\n",
    "    else :\n",
    "        print (\"u dunno how to read instruction meh?\")\n",
    "        wh = 0"
   ]
  },
  {
   "cell_type": "code",
   "execution_count": 27,
   "id": "20567843",
   "metadata": {},
   "outputs": [
    {
     "name": "stdout",
     "output_type": "stream",
     "text": [
      "Please enter the number 1, 2 or 3 :\n",
      "2\n",
      "ur buddy is not yiyou\n"
     ]
    },
    {
     "ename": "KeyboardInterrupt",
     "evalue": "Interrupted by user",
     "output_type": "error",
     "traceback": [
      "\u001b[1;31m---------------------------------------------------------------------------\u001b[0m",
      "\u001b[1;31mKeyboardInterrupt\u001b[0m                         Traceback (most recent call last)",
      "Cell \u001b[1;32mIn[27], line 5\u001b[0m\n\u001b[0;32m      2\u001b[0m wh \u001b[38;5;241m=\u001b[39m \u001b[38;5;241m1\u001b[39m\n\u001b[0;32m      4\u001b[0m \u001b[38;5;28;01mwhile\u001b[39;00m wh \u001b[38;5;241m==\u001b[39m \u001b[38;5;241m1\u001b[39m \u001b[38;5;129;01mor\u001b[39;00m wh \u001b[38;5;241m==\u001b[39m \u001b[38;5;241m2\u001b[39m \u001b[38;5;129;01mor\u001b[39;00m wh \u001b[38;5;241m==\u001b[39m \u001b[38;5;241m3\u001b[39m:\n\u001b[1;32m----> 5\u001b[0m     wh \u001b[38;5;241m=\u001b[39m \u001b[38;5;28mint\u001b[39m(\u001b[38;5;28minput\u001b[39m())\n\u001b[0;32m      6\u001b[0m     \u001b[38;5;28;01mif\u001b[39;00m wh \u001b[38;5;241m==\u001b[39m \u001b[38;5;241m1\u001b[39m :\n\u001b[0;32m      7\u001b[0m         \u001b[38;5;28mprint\u001b[39m (\u001b[38;5;124m\"\u001b[39m\u001b[38;5;124mur buddy is yiyou\u001b[39m\u001b[38;5;124m\"\u001b[39m)\n",
      "File \u001b[1;32m~\\anaconda3\\Lib\\site-packages\\ipykernel\\kernelbase.py:1202\u001b[0m, in \u001b[0;36mKernel.raw_input\u001b[1;34m(self, prompt)\u001b[0m\n\u001b[0;32m   1200\u001b[0m     msg \u001b[38;5;241m=\u001b[39m \u001b[38;5;124m\"\u001b[39m\u001b[38;5;124mraw_input was called, but this frontend does not support input requests.\u001b[39m\u001b[38;5;124m\"\u001b[39m\n\u001b[0;32m   1201\u001b[0m     \u001b[38;5;28;01mraise\u001b[39;00m StdinNotImplementedError(msg)\n\u001b[1;32m-> 1202\u001b[0m \u001b[38;5;28;01mreturn\u001b[39;00m \u001b[38;5;28mself\u001b[39m\u001b[38;5;241m.\u001b[39m_input_request(\n\u001b[0;32m   1203\u001b[0m     \u001b[38;5;28mstr\u001b[39m(prompt),\n\u001b[0;32m   1204\u001b[0m     \u001b[38;5;28mself\u001b[39m\u001b[38;5;241m.\u001b[39m_parent_ident[\u001b[38;5;124m\"\u001b[39m\u001b[38;5;124mshell\u001b[39m\u001b[38;5;124m\"\u001b[39m],\n\u001b[0;32m   1205\u001b[0m     \u001b[38;5;28mself\u001b[39m\u001b[38;5;241m.\u001b[39mget_parent(\u001b[38;5;124m\"\u001b[39m\u001b[38;5;124mshell\u001b[39m\u001b[38;5;124m\"\u001b[39m),\n\u001b[0;32m   1206\u001b[0m     password\u001b[38;5;241m=\u001b[39m\u001b[38;5;28;01mFalse\u001b[39;00m,\n\u001b[0;32m   1207\u001b[0m )\n",
      "File \u001b[1;32m~\\anaconda3\\Lib\\site-packages\\ipykernel\\kernelbase.py:1245\u001b[0m, in \u001b[0;36mKernel._input_request\u001b[1;34m(self, prompt, ident, parent, password)\u001b[0m\n\u001b[0;32m   1242\u001b[0m \u001b[38;5;28;01mexcept\u001b[39;00m \u001b[38;5;167;01mKeyboardInterrupt\u001b[39;00m:\n\u001b[0;32m   1243\u001b[0m     \u001b[38;5;66;03m# re-raise KeyboardInterrupt, to truncate traceback\u001b[39;00m\n\u001b[0;32m   1244\u001b[0m     msg \u001b[38;5;241m=\u001b[39m \u001b[38;5;124m\"\u001b[39m\u001b[38;5;124mInterrupted by user\u001b[39m\u001b[38;5;124m\"\u001b[39m\n\u001b[1;32m-> 1245\u001b[0m     \u001b[38;5;28;01mraise\u001b[39;00m \u001b[38;5;167;01mKeyboardInterrupt\u001b[39;00m(msg) \u001b[38;5;28;01mfrom\u001b[39;00m \u001b[38;5;28;01mNone\u001b[39;00m\n\u001b[0;32m   1246\u001b[0m \u001b[38;5;28;01mexcept\u001b[39;00m \u001b[38;5;167;01mException\u001b[39;00m:\n\u001b[0;32m   1247\u001b[0m     \u001b[38;5;28mself\u001b[39m\u001b[38;5;241m.\u001b[39mlog\u001b[38;5;241m.\u001b[39mwarning(\u001b[38;5;124m\"\u001b[39m\u001b[38;5;124mInvalid Message:\u001b[39m\u001b[38;5;124m\"\u001b[39m, exc_info\u001b[38;5;241m=\u001b[39m\u001b[38;5;28;01mTrue\u001b[39;00m)\n",
      "\u001b[1;31mKeyboardInterrupt\u001b[0m: Interrupted by user"
     ]
    }
   ],
   "source": [
    "print (\"Please enter the number 1, 2 or 3 :\")\n",
    "wh = 1\n",
    "\n",
    "while wh == 1 or wh == 2 or wh == 3:\n",
    "    wh = int(input())\n",
    "    if wh == 1 :\n",
    "        print (\"ur buddy is yiyou\")\n",
    "    elif wh == 2 :\n",
    "        print (\"ur buddy is not yiyou\")\n",
    "    elif wh == 3 :\n",
    "        print (\"u want your buddy to be yiyou\")\n",
    "    else :\n",
    "        print (\"u dunno how to read instruction meh?\")"
   ]
  },
  {
   "cell_type": "code",
   "execution_count": 28,
   "id": "68e60cc3",
   "metadata": {},
   "outputs": [
    {
     "name": "stdout",
     "output_type": "stream",
     "text": [
      "Please enter the number 1, 2 or 3 :\n",
      "8\n",
      "u dunno how to read instruction meh?\n",
      "2\n",
      "ur buddy is not yiyou\n",
      "w\n"
     ]
    },
    {
     "ename": "ValueError",
     "evalue": "invalid literal for int() with base 10: 'w'",
     "output_type": "error",
     "traceback": [
      "\u001b[1;31m---------------------------------------------------------------------------\u001b[0m",
      "\u001b[1;31mValueError\u001b[0m                                Traceback (most recent call last)",
      "Cell \u001b[1;32mIn[28], line 5\u001b[0m\n\u001b[0;32m      2\u001b[0m wh \u001b[38;5;241m=\u001b[39m \u001b[38;5;241m1\u001b[39m\n\u001b[0;32m      4\u001b[0m \u001b[38;5;28;01mwhile\u001b[39;00m wh \u001b[38;5;241m==\u001b[39m \u001b[38;5;241m1\u001b[39m \u001b[38;5;129;01mor\u001b[39;00m wh \u001b[38;5;241m==\u001b[39m \u001b[38;5;241m2\u001b[39m \u001b[38;5;129;01mor\u001b[39;00m wh \u001b[38;5;241m==\u001b[39m \u001b[38;5;241m3\u001b[39m:\n\u001b[1;32m----> 5\u001b[0m     wh \u001b[38;5;241m=\u001b[39m \u001b[38;5;28mint\u001b[39m(\u001b[38;5;28minput\u001b[39m())\n\u001b[0;32m      6\u001b[0m     \u001b[38;5;28;01mif\u001b[39;00m wh \u001b[38;5;241m==\u001b[39m \u001b[38;5;241m1\u001b[39m :\n\u001b[0;32m      7\u001b[0m         \u001b[38;5;28mprint\u001b[39m (\u001b[38;5;124m\"\u001b[39m\u001b[38;5;124mur buddy is yiyou\u001b[39m\u001b[38;5;124m\"\u001b[39m)\n",
      "\u001b[1;31mValueError\u001b[0m: invalid literal for int() with base 10: 'w'"
     ]
    }
   ],
   "source": [
    "print (\"Please enter the number 1, 2 or 3 :\")\n",
    "wh = 1\n",
    "\n",
    "while wh == 1 or wh == 2 or wh == 3:\n",
    "    wh = int(input())\n",
    "    if wh == 1 :\n",
    "        print (\"ur buddy is yiyou\")\n",
    "    elif wh == 2 :\n",
    "        print (\"ur buddy is not yiyou\")\n",
    "    elif wh == 3 :\n",
    "        print (\"u want your buddy to be yiyou\")\n",
    "    else :\n",
    "        print (\"u dunno how to read instruction meh?\")\n",
    "        wh = 1"
   ]
  },
  {
   "cell_type": "code",
   "execution_count": null,
   "id": "958bb059",
   "metadata": {},
   "outputs": [],
   "source": [
    "print (\"Please enter the A,B or C \")\n",
    "if grade == 'A':\n",
    "    print(\"Congratulations!\")\n",
    "elif grade == \"B\":\n",
    "    print (\"Good\")\n",
    "elif grade == \"C\":\n",
    "    print (\"Pass\")\n",
    "else:\n",
    "    print (\"No such grade in the system\")\n",
    "    print('wen han is handsome')"
   ]
  }
 ],
 "metadata": {
  "kernelspec": {
   "display_name": "Python 3 (ipykernel)",
   "language": "python",
   "name": "python3"
  },
  "language_info": {
   "codemirror_mode": {
    "name": "ipython",
    "version": 3
   },
   "file_extension": ".py",
   "mimetype": "text/x-python",
   "name": "python",
   "nbconvert_exporter": "python",
   "pygments_lexer": "ipython3",
   "version": "3.11.5"
  }
 },
 "nbformat": 4,
 "nbformat_minor": 5
}

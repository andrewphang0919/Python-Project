{
 "cells": [
  {
   "cell_type": "code",
   "execution_count": 10,
   "id": "e270e1a2",
   "metadata": {},
   "outputs": [
    {
     "name": "stdout",
     "output_type": "stream",
     "text": [
      "yiyou belanja babi\n"
     ]
    }
   ],
   "source": [
    "x = 0.0001\n",
    "y = 20\n",
    "\n",
    "if isinstance(x,int):\n",
    "\n",
    "    print (\"hello\")\n",
    "else:\n",
    "    print (\"yiyou belanja babi\")"
   ]
  },
  {
   "cell_type": "code",
   "execution_count": 22,
   "id": "e63b282c",
   "metadata": {},
   "outputs": [],
   "source": [
    "x = [\"Lee Yang\", \"YiYou\",\"ChunEe\"]\n",
    "\n",
    "def x_gender(x_name):\n",
    "    if (is_boy(x_name)):\n",
    "        return \"x is boy\"\n",
    "    else:\n",
    "        return \"x is not boy\"\n",
    "    \n",
    "def is_boy(x_name):\n",
    "    return x_name in x"
   ]
  },
  {
   "cell_type": "code",
   "execution_count": 30,
   "id": "4465ead2",
   "metadata": {},
   "outputs": [
    {
     "name": "stdout",
     "output_type": "stream",
     "text": [
      "22\n"
     ]
    }
   ],
   "source": [
    "student = {\n",
    "    \"name\": \"Andrew\",\n",
    "    \"age\":22\n",
    "}\n",
    "\n",
    "print(student[\"age\"])"
   ]
  },
  {
   "cell_type": "code",
   "execution_count": 34,
   "id": "a9e3962d",
   "metadata": {},
   "outputs": [
    {
     "name": "stdout",
     "output_type": "stream",
     "text": [
      "Please enter the nameyiyou\n",
      "he is not boy\n"
     ]
    }
   ],
   "source": [
    "he = [\"Lee Yang\", \"Yik Seng\",\"ChunEe\"]\n",
    "\n",
    "def he_gender(he_name):\n",
    "    if (is_boy(he_name)):\n",
    "        return \"he is boy\"\n",
    "    else:\n",
    "        return \"he is not boy\"\n",
    "    \n",
    "def is_boy(he_name):\n",
    "    return he_name in he\n",
    "\n",
    "input_he = input('Please enter the name')\n",
    "print (he_gender(input_he))"
   ]
  },
  {
   "cell_type": "code",
   "execution_count": 37,
   "id": "2ff97e14",
   "metadata": {},
   "outputs": [
    {
     "name": "stdout",
     "output_type": "stream",
     "text": [
      "Enter your name:\n",
      "  @media print {\n",
      "    .ms-editor-squiggles-container {\n",
      "      display:none !important;\n",
      "    }\n",
      "  }\n",
      "  .ms-editor-squiggles-container {\n",
      "    all: initial;\n",
      "  }ming jing\n",
      "Enter your age29\n",
      "Enter your gender:male\n",
      "Choose the info you want to display (name,age,gender):age\n",
      "29\n"
     ]
    }
   ],
   "source": [
    "student = {\n",
    "    \"name\": input(\"Enter your name:\"),\n",
    "    \"age\": input(\"Enter your age\"),\n",
    "    \"gender\": input(\"Enter your gender:\")\n",
    "}\n",
    "\n",
    "statement = input (\"Choose the info you want to display (name,age,gender):\")\n",
    "print(student[statement])"
   ]
  },
  {
   "cell_type": "code",
   "execution_count": null,
   "id": "b68bcb90",
   "metadata": {},
   "outputs": [],
   "source": [
    "BMI = "
   ]
  }
 ],
 "metadata": {
  "kernelspec": {
   "display_name": "Python 3 (ipykernel)",
   "language": "python",
   "name": "python3"
  },
  "language_info": {
   "codemirror_mode": {
    "name": "ipython",
    "version": 3
   },
   "file_extension": ".py",
   "mimetype": "text/x-python",
   "name": "python",
   "nbconvert_exporter": "python",
   "pygments_lexer": "ipython3",
   "version": "3.11.5"
  }
 },
 "nbformat": 4,
 "nbformat_minor": 5
}

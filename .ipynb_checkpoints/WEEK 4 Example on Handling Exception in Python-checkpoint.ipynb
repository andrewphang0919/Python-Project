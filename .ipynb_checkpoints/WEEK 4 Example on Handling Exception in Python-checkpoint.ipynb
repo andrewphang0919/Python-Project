{
 "cells": [
  {
   "cell_type": "code",
   "execution_count": 1,
   "id": "90901982",
   "metadata": {},
   "outputs": [
    {
     "name": "stdout",
     "output_type": "stream",
     "text": [
      "Enter the first number: 1\n",
      "Enter the second number: 2\n",
      "Enter the operation (add, sub, multiply, divide): add\n",
      "Result: 3\n"
     ]
    }
   ],
   "source": [
    "def simple_calculator():\n",
    "    \n",
    "    while True:\n",
    "        try:\n",
    "            num1 = int(input(\"Enter the first number: \"))\n",
    "            num2 = int(input(\"Enter the second number: \"))\n",
    "            operation = input(\"Enter the operation (add, sub, multiply, divide): \")\n",
    "            # Get user input for numbers and operation\n",
    "            \n",
    "            # Perform the chosen operation\n",
    "            if operation == 'add':\n",
    "                result = num1 + num2\n",
    "            elif operation == 'sub':\n",
    "                result = num1 - num2\n",
    "            elif operation == 'multiply':\n",
    "                result = num1 * num2\n",
    "            elif operation == 'divide':\n",
    "                # Check for division by zero\n",
    "                if num2 == 0:\n",
    "                    raise ZeroDivisionError(\"Division by zero is not allowed.\")\n",
    "                result = num1 / num2\n",
    "            else:\n",
    "                print (\"Invalid operation. Please enter add, sub, multiply, or divide.\")\n",
    "                continue  # Ask the user to enter the operation again\n",
    "                \n",
    "        except ValueError:\n",
    "            print(\"Please enter valid number.\")\n",
    "            continue\n",
    "        except ZeroDivisionError:\n",
    "            print(\"Please enter a non-zero value for the second number.\")\n",
    "            continue\n",
    "        except Exception:\n",
    "            print(\"An unexpected error occurred\")\n",
    "            continue\n",
    "        else:\n",
    "            print(\"Result:\",result)\n",
    "            break\n",
    "            \n",
    "# Call the function to run the calculator\n",
    "simple_calculator()"
   ]
  }
 ],
 "metadata": {
  "kernelspec": {
   "display_name": "Python 3 (ipykernel)",
   "language": "python",
   "name": "python3"
  },
  "language_info": {
   "codemirror_mode": {
    "name": "ipython",
    "version": 3
   },
   "file_extension": ".py",
   "mimetype": "text/x-python",
   "name": "python",
   "nbconvert_exporter": "python",
   "pygments_lexer": "ipython3",
   "version": "3.11.5"
  }
 },
 "nbformat": 4,
 "nbformat_minor": 5
}

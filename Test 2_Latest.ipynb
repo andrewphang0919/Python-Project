{
 "cells": [
  {
   "cell_type": "code",
   "execution_count": 1,
   "id": "b9bd6fd3",
   "metadata": {},
   "outputs": [
    {
     "name": "stdout",
     "output_type": "stream",
     "text": [
      "The value of y at t = 1 is: [0.37534872]\n"
     ]
    }
   ],
   "source": [
    "import numpy as np\n",
    "from scipy.integrate import odeint\n",
    "\n",
    "# Define the ODE dy/dt = -2*y*t\n",
    "def function(y, t):\n",
    "    dydt = -2 * y * t\n",
    "    return dydt\n",
    "\n",
    "# Set initial condition and time points\n",
    "y0 = 1  # Initial condition: y(0) = 1\n",
    "t = np.linspace(0, 2, 100)  # Time points from 0 to 2\n",
    "\n",
    "# Solve the ODE using odeint\n",
    "solution = odeint(function, y0, t)\n",
    "\n",
    "# Find the value of y when t = 1\n",
    "t_to_find = 1\n",
    "index_t_to_find = np.argmin(np.abs(t - t_to_find))\n",
    "y_at_t1 = solution[index_t_to_find]\n",
    "\n",
    "print(f'The value of y at t = 1 is: {y_at_t1}')"
   ]
  },
  {
   "cell_type": "code",
   "execution_count": 2,
   "id": "21c95acc",
   "metadata": {},
   "outputs": [
    {
     "data": {
      "image/png": "[encoded data removed]",
      "text/plain": [
       "<Figure size 640x480 with 1 Axes>"
      ]
     },
     "metadata": {},
     "output_type": "display_data"
    }
   ],
   "source": [
    "import numpy as np\n",
    "from scipy.integrate import odeint\n",
    "import matplotlib.pyplot as plt\n",
    "\n",
    "# Define the ODE dy/dt = -2*y*t\n",
    "def function(y, t):\n",
    "    dydt = -2 * y * t\n",
    "    return dydt\n",
    "\n",
    "# Set initial condition and time points\n",
    "y0 = 1  # Initial condition: y(0) = 1\n",
    "t = np.linspace(0, 2, 100)  # Time points from 0 to 2\n",
    "\n",
    "# Solve the ODE using odeint\n",
    "solution = odeint(function, y0, t)\n",
    "\n",
    "# Plot the solution\n",
    "plt.plot(t, solution, label='y(t)')\n",
    "plt.xlabel('Time (t)')\n",
    "plt.ylabel('y(t)')\n",
    "plt.title('Solution of dy/dt = -2*y*t with y(0) = 1')\n",
    "plt.legend()\n",
    "plt.show()"
   ]
  },
  {
   "cell_type": "code",
   "execution_count": 3,
   "id": "11515eb2",
   "metadata": {},
   "outputs": [
    {
     "name": "stdout",
     "output_type": "stream",
     "text": [
      "[[2 4 6]\n",
      " [5 3 2]\n",
      " [7 8 9]]\n",
      "[[18]\n",
      " [13]\n",
      " [30]]\n",
      "[[ 4.5]\n",
      " [-7.5]\n",
      " [ 6.5]]\n"
     ]
    }
   ],
   "source": [
    "# Import necessary libraries\n",
    "import numpy as np\n",
    "\n",
    "# Define the coefficient matrix A\n",
    "A = np.array([[2, 4, 6], [5, 3, 2], [7, 8, 9]])\n",
    "print(A)\n",
    "\n",
    "# Define the right-hand side vector B\n",
    "B = np.array([[18], [13], [30]])\n",
    "print(B)\n",
    "\n",
    "# Calculate the inverse of A and multiply by b to find the solution vector\n",
    "# linalg=linear algebra\n",
    "C = np.linalg.inv(A).dot(B)\n",
    "print(C)\n",
    "# C is the solution vector"
   ]
  },
  {
   "cell_type": "code",
   "execution_count": 7,
   "id": "31d704fd",
   "metadata": {},
   "outputs": [
    {
     "name": "stdout",
     "output_type": "stream",
     "text": [
      "Enter the number of forecast days (1 to 16): 2\n",
      "Error: Unexpected response. Unable to extract hourly temperature data.\n"
     ]
    }
   ],
   "source": [
    "import requests\n",
    "import matplotlib.pyplot as plt\n",
    "\n",
    "def get_weather_data(latitude, longitude, forecast_days, max_retries=3):\n",
    "    # Define API endpoint and parameters\n",
    "    api_url = \"https://api.open-meteo.com/v1/forecast?latitude=2.5&&longitude=112.5&hourly=temperature_2m&timezone=Asia%2FSingapore&forecast_days=1\"\n",
    "    params = {\n",
    "        \"latitude\": latitude,\n",
    "        \"longitude\": longitude,\n",
    "        \"hourly\": \"temperature_2m\",\n",
    "        \"timezone\": \"Asia/Singapore\",\n",
    "        \"forecast_days\": forecast_days\n",
    "    }\n",
    "\n",
    "    # Attempt the API request with retries\n",
    "    for attempt in range(max_retries):\n",
    "        response = requests.get(api_url, params=params)\n",
    "\n",
    "        # Check if the request was successful (status code 200)\n",
    "        if response.status_code == 200:\n",
    "            data = response.json()\n",
    "            return data\n",
    "        else:\n",
    "            print(f\"Error: Unable to retrieve weather data. Status Code: {response.status_code}\")\n",
    "\n",
    "        # Retry after a short delay\n",
    "        if attempt < max_retries - 1:\n",
    "            print(f\"Retrying... (Attempt {attempt + 2}/{max_retries})\")\n",
    "            time.sleep(2)  # You may need to import the time module\n",
    "\n",
    "    return None\n",
    "\n",
    "def plot_temperature_trend(data, forecast_days):\n",
    "    # Check if the expected structure is present in the API response\n",
    "    if 'hourly' in data and 'temperature_2m' in data['hourly']:\n",
    "        hourly_data = data['hourly']['temperature_2m']\n",
    "\n",
    "        # Ensure that hourly_data is a list\n",
    "        if isinstance(hourly_data, list):\n",
    "            # Create lists for time and temperature\n",
    "            time_points = []\n",
    "            temperatures = []\n",
    "\n",
    "            # Check and extract data from each entry\n",
    "            for entry in hourly_data:\n",
    "                if isinstance(entry, dict) and 'timestamp' in entry and 'value' in entry:\n",
    "                    time_points.append(entry['timestamp'])\n",
    "                    temperatures.append(entry['value'])\n",
    "                else:\n",
    "                    print(\"Error: Unexpected format in hourly_data entry. Skipping.\")\n",
    "\n",
    "            # Convert time points to hours for better readability\n",
    "            hours = [(time - data['timezone_offset']) % 86400 / 3600 for time in time_points]\n",
    "\n",
    "            # Plot the temperature trend\n",
    "            plt.figure(figsize=(10, 6))\n",
    "            plt.plot(hours, temperatures, label=f\"{forecast_days} Day Forecast\")\n",
    "            plt.xlabel('Hour of the Day')\n",
    "            plt.ylabel('Temperature (°C)')\n",
    "            plt.title(f'Temperature Trend ({forecast_days} Day Forecast) - Latitude: {data[\"latitude\"]}, Longitude: {data[\"longitude\"]}, Elevation: {data[\"elevation\"]}m')\n",
    "            plt.grid(True)\n",
    "            plt.legend()\n",
    "            plt.show()\n",
    "        else:\n",
    "            print(\"Error: Unexpected response. 'temperature_2m' should be a list.\")\n",
    "    else:\n",
    "        print(\"Error: Unexpected response. Unable to extract hourly temperature data.\")\n",
    "\n",
    "def main():\n",
    "    # Get user input for forecast days\n",
    "    while True:\n",
    "        try:\n",
    "            forecast_days = int(input(\"Enter the number of forecast days (1 to 16): \"))\n",
    "            if 1 <= forecast_days <= 16:\n",
    "                break\n",
    "            else:\n",
    "                print(\"Invalid input. Please enter a number within 1 and 16.\")\n",
    "        except ValueError:\n",
    "            print(\"Invalid input. Please enter a valid number.\")\n",
    "\n",
    "    # Specify location coordinates\n",
    "    latitude = 2.375\n",
    "    longitude = 112.5\n",
    "\n",
    "    # Get weather data from the API\n",
    "    weather_data = get_weather_data(latitude, longitude, forecast_days)\n",
    "\n",
    "    if weather_data:\n",
    "        # Plot the graph of temperature trend\n",
    "        plot_temperature_trend(weather_data, forecast_days)\n",
    "\n",
    "if __name__ == \"__main__\":\n",
    "    main()"
   ]
  }
 ],
 "metadata": {
  "kernelspec": {
   "display_name": "Python 3 (ipykernel)",
   "language": "python",
   "name": "python3"
  },
  "language_info": {
   "codemirror_mode": {
    "name": "ipython",
    "version": 3
   },
   "file_extension": ".py",
   "mimetype": "text/x-python",
   "name": "python",
   "nbconvert_exporter": "python",
   "pygments_lexer": "ipython3",
   "version": "3.11.5"
  }
 },
 "nbformat": 4,
 "nbformat_minor": 5
}

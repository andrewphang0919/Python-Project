{
 "cells": [
  {
   "cell_type": "code",
   "execution_count": 17,
   "id": "2d6ece34",
   "metadata": {},
   "outputs": [],
   "source": [
    "from thermo.unifac import UFIP, UFSG, UNIFAC\n",
    "GE = UNIFAC.from_subgroups(chemgroups=[{1:2, 2:4}, {1:1, 2:1, 18:1}], T=60+273.15, xs=[0.5, 0.5], version=0, interaction_data=UFIP, subgroups=UFSG)"
   ]
  },
  {
   "cell_type": "code",
   "execution_count": 18,
   "id": "474def70",
   "metadata": {},
   "outputs": [
    {
     "data": {
      "text/plain": [
       "[1.4276025835624184, 1.3646545010104223]"
      ]
     },
     "execution_count": 18,
     "metadata": {},
     "output_type": "execute_result"
    }
   ],
   "source": [
    "GE.gammas()"
   ]
  },
  {
   "cell_type": "code",
   "execution_count": 19,
   "id": "16d84cb8",
   "metadata": {},
   "outputs": [
    {
     "data": {
      "text/plain": [
       "(923.6411976689182, 0.20672148892835107, -0.0038007020460579842)"
      ]
     },
     "execution_count": 19,
     "metadata": {},
     "output_type": "execute_result"
    }
   ],
   "source": [
    "GE.GE(), GE.dGE_dT(), GE.d2GE_dT2()"
   ]
  },
  {
   "cell_type": "code",
   "execution_count": 20,
   "id": "4165ee7e",
   "metadata": {},
   "outputs": [
    {
     "data": {
      "text/plain": [
       "(854.771933632438,\n",
       " -0.2067214889283509,\n",
       " 1.2662038866442173,\n",
       " 0.0038007020460579834)"
      ]
     },
     "execution_count": 20,
     "metadata": {},
     "output_type": "execute_result"
    }
   ],
   "source": [
    "GE.HE(), GE.SE(), GE.dHE_dT(), GE.dSE_dT()"
   ]
  },
  {
   "cell_type": "code",
   "execution_count": 23,
   "id": "7b99c264",
   "metadata": {},
   "outputs": [
    {
     "data": {
      "text/plain": [
       "28846"
      ]
     },
     "execution_count": 23,
     "metadata": {},
     "output_type": "execute_result"
    }
   ],
   "source": [
    "import thermo.unifac\n",
    "thermo.unifac.load_group_assignments_DDBST()\n",
    "len(thermo.unifac.DDBST_UNIFAC_assignments)"
   ]
  },
  {
   "cell_type": "code",
   "execution_count": 24,
   "id": "77dccb29",
   "metadata": {},
   "outputs": [
    {
     "data": {
      "text/plain": [
       "29271"
      ]
     },
     "execution_count": 24,
     "metadata": {},
     "output_type": "execute_result"
    }
   ],
   "source": [
    "len(thermo.unifac.DDBST_MODIFIED_UNIFAC_assignments)"
   ]
  },
  {
   "cell_type": "code",
   "execution_count": 25,
   "id": "1a2817a5",
   "metadata": {},
   "outputs": [
    {
     "data": {
      "text/plain": [
       "30034"
      ]
     },
     "execution_count": 25,
     "metadata": {},
     "output_type": "execute_result"
    }
   ],
   "source": [
    "len(thermo.unifac.DDBST_PSRK_assignments)"
   ]
  },
  {
   "cell_type": "code",
   "execution_count": 27,
   "id": "b240afec",
   "metadata": {},
   "outputs": [
    {
     "data": {
      "text/plain": [
       "'YXFVVABEGXRONW-UHFFFAOYSA-N'"
      ]
     },
     "execution_count": 27,
     "metadata": {},
     "output_type": "execute_result"
    }
   ],
   "source": [
    "from chemicals import search_chemical\n",
    "search_chemical('toluene').InChI_key"
   ]
  },
  {
   "cell_type": "code",
   "execution_count": 28,
   "id": "a83eabd0",
   "metadata": {},
   "outputs": [
    {
     "data": {
      "text/plain": [
       "{9: 5, 11: 1}"
      ]
     },
     "execution_count": 28,
     "metadata": {},
     "output_type": "execute_result"
    }
   ],
   "source": [
    "thermo.unifac.DDBST_MODIFIED_UNIFAC_assignments['YXFVVABEGXRONW-UHFFFAOYSA-N']"
   ]
  }
 ],
 "metadata": {
  "kernelspec": {
   "display_name": "Python 3 (ipykernel)",
   "language": "python",
   "name": "python3"
  },
  "language_info": {
   "codemirror_mode": {
    "name": "ipython",
    "version": 3
   },
   "file_extension": ".py",
   "mimetype": "text/x-python",
   "name": "python",
   "nbconvert_exporter": "python",
   "pygments_lexer": "ipython3",
   "version": "3.11.5"
  }
 },
 "nbformat": 4,
 "nbformat_minor": 5
}

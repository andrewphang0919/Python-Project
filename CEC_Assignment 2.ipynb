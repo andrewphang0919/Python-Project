{
 "cells": [
  {
   "cell_type": "code",
   "execution_count": 1,
   "id": "87fe23e9",
   "metadata": {},
   "outputs": [
    {
     "name": "stdout",
     "output_type": "stream",
     "text": [
      "1\n",
      "2\n",
      "3\n",
      "4\n",
      "5\n",
      "6\n",
      "7\n",
      "8\n",
      "9\n",
      "10\n",
      "1\n",
      "2\n",
      "3\n",
      "4\n",
      "5\n",
      "6\n",
      "7\n",
      "8\n",
      "9\n",
      "10\n"
     ]
    }
   ],
   "source": [
    "count = 1\n",
    "while (count <= 10):\n",
    "    print (count)\n",
    "    count = count + 1\n",
    "    \n",
    "for i in range(1,11):\n",
    "    print(i)"
   ]
  },
  {
   "cell_type": "code",
   "execution_count": 2,
   "id": "c9052f72",
   "metadata": {},
   "outputs": [
    {
     "name": "stdout",
     "output_type": "stream",
     "text": [
      "2\n",
      "4\n",
      "6\n",
      "8\n",
      "10\n"
     ]
    }
   ],
   "source": [
    "numbers = [1,2,3,4,5,6,7,8,9,10]\n",
    "for num in numbers:\n",
    "    if num %2 == 0:\n",
    "        print(num)"
   ]
  },
  {
   "cell_type": "code",
   "execution_count": 3,
   "id": "ed82ee4b",
   "metadata": {},
   "outputs": [
    {
     "name": "stdout",
     "output_type": "stream",
     "text": [
      "1 x 1 = 1.0\n",
      "1 x 2 = 0.5\n",
      "1 x 3 = 0.3333333333333333\n",
      "1 x 4 = 0.25\n",
      "1 x 5 = 0.2\n",
      "------\n",
      "2 x 1 = 2.0\n",
      "2 x 2 = 1.0\n",
      "2 x 3 = 0.6666666666666666\n",
      "2 x 4 = 0.5\n",
      "2 x 5 = 0.4\n",
      "------\n",
      "3 x 1 = 3.0\n",
      "3 x 2 = 1.5\n",
      "3 x 3 = 1.0\n",
      "3 x 4 = 0.75\n",
      "3 x 5 = 0.6\n",
      "------\n",
      "4 x 1 = 4.0\n",
      "4 x 2 = 2.0\n",
      "4 x 3 = 1.3333333333333333\n",
      "4 x 4 = 1.0\n",
      "4 x 5 = 0.8\n",
      "------\n",
      "5 x 1 = 5.0\n",
      "5 x 2 = 2.5\n",
      "5 x 3 = 1.6666666666666667\n",
      "5 x 4 = 1.25\n",
      "5 x 5 = 1.0\n",
      "------\n"
     ]
    }
   ],
   "source": [
    "for i in range(1,6):\n",
    "    for j in range(1,6):\n",
    "        print(i,\"x\",j,\"=\",i/j)\n",
    "    print (\"------\")"
   ]
  }
 ],
 "metadata": {
  "kernelspec": {
   "display_name": "Python 3 (ipykernel)",
   "language": "python",
   "name": "python3"
  },
  "language_info": {
   "codemirror_mode": {
    "name": "ipython",
    "version": 3
   },
   "file_extension": ".py",
   "mimetype": "text/x-python",
   "name": "python",
   "nbconvert_exporter": "python",
   "pygments_lexer": "ipython3",
   "version": "3.11.5"
  }
 },
 "nbformat": 4,
 "nbformat_minor": 5
}

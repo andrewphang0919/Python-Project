{
 "cells": [
  {
   "cell_type": "code",
   "execution_count": 1,
   "id": "466f92f1",
   "metadata": {},
   "outputs": [
    {
     "name": "stdout",
     "output_type": "stream",
     "text": [
      "Filtered data has been written to top_students.csv\n"
     ]
    }
   ],
   "source": [
    "import csv\n",
    "\n",
    "def process_csv(input_file, output_file):\n",
    "    with open('students.csv', 'r') as file:\n",
    "        csv_reader = csv.DictReader(file)\n",
    "        rows = list(csv_reader)\n",
    "        \n",
    "        # Filter out students with grades less than 'B'\n",
    "        filtered_rows = [row for row in rows if row['Grade'] <= 'B']\n",
    "        \n",
    "        # Add a 'Status' column and set value to 'Passed'\n",
    "        for row in filtered_rows:\n",
    "            row['Status'] = 'Passed'\n",
    "\n",
    "        # Write the filtered data to a new CSV file\n",
    "        headers = ['Name', 'Age', 'Grade', 'Status']\n",
    "        with open('top_students.csv', 'w', newline='') as file:\n",
    "            writer = csv.DictWriter(file, fieldnames=headers)\n",
    "            writer.writeheader()\n",
    "            writer.writerows(filtered_rows)\n",
    "\n",
    "if __name__ == \"__main__\":\n",
    "    input_file = 'students.csv'\n",
    "    output_file = 'top_students.csv'\n",
    "\n",
    "    process_csv(input_file, output_file)\n",
    "    print(f\"Filtered data has been written to {output_file}\")"
   ]
  },
  {
   "cell_type": "code",
   "execution_count": 5,
   "id": "f63eb002",
   "metadata": {},
   "outputs": [
    {
     "name": "stdout",
     "output_type": "stream",
     "text": [
      "State: Johor, Capital: Johor Bahru, Population: 3794000\n",
      "State: Kedah, Capital: Alor Setar, Population: 2194100\n",
      "State: Kelantan, Capital: Kota Bharu, Population: 1928800\n",
      "State: Malacca, Capital: Malacca City, Population: 937500\n",
      "State: Negeri Sembilan, Capital: Seremban, Population: 1129100\n",
      "State: Pahang, Capital: Kuantan, Population: 1684600\n",
      "State: Penang, Capital: George Town, Population: 1774400\n",
      "State: Perak, Capital: Ipoh, Population: 2508900\n",
      "State: Perlis, Capital: Kangar, Population: 255400\n",
      "State: Sabah, Capital: Kota Kinabalu, Population: 3833000\n",
      "State: Sarawak, Capital: Kuching, Population: 2822200\n",
      "State: Selangor, Capital: Shah Alam, Population: 6555400\n",
      "State: Terengganu, Capital: Kuala Terengganu, Population: 1275100\n",
      "State: Kuala Lumpur, Capital: Kuala Lumpur, Population: 1746600\n",
      "State: Labuan, Capital: Victoria, Population: 100100\n",
      "State: Putrajaya, Capital: Putrajaya, Population: 116100\n"
     ]
    }
   ],
   "source": [
    "import requests\n",
    "api_url = \"https://jian.sh/malaysia-api/state/v1/all.json\"\n",
    "response = requests.get(api_url)\n",
    "malaysia_state_data = response.json()\n",
    "\n",
    "for state in malaysia_state_data:\n",
    "    print(f\"State: {state['state']}, Capital: {state['capital']}, Population: {state['population']}\")"
   ]
  },
  {
   "cell_type": "code",
   "execution_count": null,
   "id": "68531845",
   "metadata": {},
   "outputs": [
    {
     "name": "stdout",
     "output_type": "stream",
     "text": [
      "Enter the name of a state: Negeri Sembilan\n",
      "Population of Negeri Sembilan: 1129100\n",
      "Enter the name of a state: Kuantan\n",
      "Kuantan is not found in the data.\n"
     ]
    }
   ],
   "source": [
    "import requests\n",
    "\n",
    "def get_population_by_state(state_name, malaysia_state_data):\n",
    "    for state in malaysia_state_data:\n",
    "        if state['state'].lower() == state_name.lower():\n",
    "            return state['population']\n",
    "    return None\n",
    "\n",
    "def main():\n",
    "    api_url = \"https://jian.sh/malaysia-api/state/v1/all.json\"\n",
    "    response = requests.get(api_url)\n",
    "\n",
    "    if response.ok:\n",
    "        try:\n",
    "            malaysia_state_data = response.json()\n",
    "\n",
    "            while True:\n",
    "                state_name = input(\"Enter the name of a state: \")\n",
    "                if not state_name:\n",
    "                    break\n",
    "\n",
    "                population = get_population_by_state(state_name, malaysia_state_data)\n",
    "\n",
    "                if population is not None:\n",
    "                    print(f\"Population of {state_name}: {population}\")\n",
    "                else:\n",
    "                    print(f\"{state_name} is not found in the data.\")\n",
    "\n",
    "        except ValueError:\n",
    "            print(\"Error: Unable to parse JSON response.\")\n",
    "    else:\n",
    "        print(f\"Error: {response.status_code} - {response.reason}\")\n",
    "\n",
    "if __name__ == \"__main__\":\n",
    "    main()"
   ]
  },
  {
   "cell_type": "code",
   "execution_count": null,
   "id": "ab69e9da",
   "metadata": {},
   "outputs": [],
   "source": []
  }
 ],
 "metadata": {
  "kernelspec": {
   "display_name": "Python 3 (ipykernel)",
   "language": "python",
   "name": "python3"
  },
  "language_info": {
   "codemirror_mode": {
    "name": "ipython",
    "version": 3
   },
   "file_extension": ".py",
   "mimetype": "text/x-python",
   "name": "python",
   "nbconvert_exporter": "python",
   "pygments_lexer": "ipython3",
   "version": "3.11.5"
  }
 },
 "nbformat": 4,
 "nbformat_minor": 5
}
